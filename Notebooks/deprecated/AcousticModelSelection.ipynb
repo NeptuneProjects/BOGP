{
 "cells": [
  {
   "cell_type": "code",
   "execution_count": 1,
   "id": "2fd07a66",
   "metadata": {},
   "outputs": [],
   "source": [
    "import os\n",
    "import sys\n",
    "sys.path.append(\"/Users/williamjenkins/Research/Code/TritonOA/\")\n",
    "\n",
    "import matplotlib as mpl\n",
    "from matplotlib import pyplot as plt\n",
    "import matplotlib.gridspec as gridspec\n",
    "import numpy as np\n",
    "import pandas as pd\n",
    "from scipy.interpolate import interp1d\n",
    "from scipy.special import hankel1\n",
    "from skopt.plots import plot_convergence, plot_gaussian_process, plot_objective\n",
    "from skopt.space import Categorical, Integer, Real\n",
    "from skopt.utils import use_named_args\n",
    "from skopt import gp_minimize\n",
    "\n",
    "from TritonOA.env import env\n",
    "from TritonOA.io import readwrite\n",
    "from TritonOA.plotting import plotting"
   ]
  },
  {
   "cell_type": "markdown",
   "id": "1d07ac7b-9e85-4625-9005-b8e44e6d4269",
   "metadata": {},
   "source": [
    "### 0. Define Functions"
   ]
  },
  {
   "cell_type": "code",
   "execution_count": 2,
   "id": "67fc1676-5bdf-4fc2-a539-68b4932343ba",
   "metadata": {},
   "outputs": [],
   "source": [
    "def pressure_field(phi_src, phi_rec, k, r):\n",
    "    p = (phi_src * phi_rec) @ hankel1(0, -k * r)\n",
    "    p = np.pi * 1j / (1.) * p\n",
    "    p = np.conj(p)\n",
    "    return p\n",
    "\n",
    "\n",
    "def bartlett(K, r_hat):\n",
    "    w = r_hat / np.linalg.norm(r_hat)\n",
    "    B = abs(w.conj().T @ K @ w)\n",
    "\n",
    "    return float(B)\n",
    "\n",
    "\n",
    "\n",
    "\n",
    "\n",
    "\n",
    "\n",
    "\n",
    "# def evaluate_kraken(sr, sd):\n",
    "#     parameters = readwrite.pkl2dict(fname)\n",
    "#     parameters['SD'] = sd\n",
    "#     parameters['X'] = sr\n",
    "    \n",
    "#     ssp = env.SSPraw(\n",
    "#         parameters['Z'],\n",
    "#         parameters['CP'],\n",
    "#         parameters['CS'],\n",
    "#         parameters['RHO'],\n",
    "#         parameters['AP'],\n",
    "#         parameters['AS']\n",
    "#     )\n",
    "\n",
    "#     top = env.TopBndry(parameters['TOPOPT'])\n",
    "\n",
    "#     halfspace = env.HS(\n",
    "#         parameters['CPB'],\n",
    "#         parameters['CSB'],\n",
    "#         parameters['RHOB'],\n",
    "#         parameters['APB'],\n",
    "#         parameters['ASB']\n",
    "#     )\n",
    "\n",
    "#     bottom = env.BotBndry(parameters['BOTOPT'], halfspace)\n",
    "\n",
    "#     bdy = env.Bndry(top, bottom)\n",
    "\n",
    "#     depth = [0, parameters['ZB']]\n",
    "#     ssp_list = [ssp]\n",
    "#     NMESH = [parameters['NMESH']]\n",
    "#     sigma = [parameters['SIGMA_TOP'], parameters['SIGMA_BOT']] # Roughness at each layer; only affects attenuation (imag. part)\n",
    "#     ssp = env.SSP(\n",
    "#         ssp_list,\n",
    "#         depth,\n",
    "#         parameters['NMEDIA'],\n",
    "#         parameters['TOPOPT'],\n",
    "#         NMESH,\n",
    "#         sigma\n",
    "#     )\n",
    "\n",
    "#     cInt = env.cInt(parameters['CLOW'], parameters['CHIGH'])\n",
    "\n",
    "# #     if parameters['fullfield']:\n",
    "# #         parameters['X'] = np.arange(0, parameters['RMAX'], 0.001)\n",
    "# #         r = env.Dom(parameters['X'], parameters['Z'])\n",
    "# #     else:\n",
    "# #         parameters['X'] = 5\n",
    "# #         r = env.Dom(parameters['X'], parameters['RD'])\n",
    "\n",
    "#     s = env.Source([parameters['SD']])\n",
    "#     r = env.Dom(parameters['X'], parameters['RD'])\n",
    "#     pos = env.Pos(s,r)\n",
    "#     pos.Nsd = parameters['NSD']\n",
    "#     pos.Nrd = parameters['NRD']\n",
    "\n",
    "#     TITLE = \"TestKraken\"\n",
    "\n",
    "#     readwrite.write_env(\n",
    "#         f\"{TITLE}.env\",\n",
    "#         \"KRAKEN\",\n",
    "#         TITLE,\n",
    "#         parameters['FREQ'],\n",
    "#         ssp,\n",
    "#         bdy,\n",
    "#         pos,\n",
    "#         [],\n",
    "#         cInt,\n",
    "#         parameters['RMAX']\n",
    "#     )\n",
    "#     os.system(f\"kraken.exe {TITLE}\")\n",
    "\n",
    "\n",
    "#     options = {'fname': \"TestKraken.mod\", 'freq':0}\n",
    "#     modes = readwrite.read_modes(**options)\n",
    "\n",
    "#     k = modes.k\n",
    "#     k = np.expand_dims(k, 1)\n",
    "\n",
    "#     phi = modes.phi\n",
    "#     mask = np.isclose(parameters['SD'], modes.z)\n",
    "#     phi_src = phi[mask, :]\n",
    "#     phi_rec = phi[np.invert(mask), :]\n",
    "\n",
    "#     p = pressure_field(phi_src, phi_rec, k, pos.r.range * 1000)\n",
    "    \n",
    "#     return p, pos, modes\n"
   ]
  },
  {
   "cell_type": "markdown",
   "id": "869d236c-3e65-4a06-87b3-aeab9d9b1e66",
   "metadata": {},
   "source": [
    "## 1. Define True Acoustic Field"
   ]
  },
  {
   "cell_type": "markdown",
   "id": "71db9eaf-6bcb-4613-8487-5728e031f7d2",
   "metadata": {},
   "source": [
    "### 1.1 Set Model Configuration"
   ]
  },
  {
   "cell_type": "code",
   "execution_count": 3,
   "id": "7bb4a6e9-940b-470e-8dde-901da9454a47",
   "metadata": {},
   "outputs": [
    {
     "data": {
      "text/plain": [
       "'parameters.p'"
      ]
     },
     "execution_count": 3,
     "metadata": {},
     "output_type": "execute_result"
    }
   ],
   "source": [
    "parameters = dict()\n",
    "\n",
    "# Set Run Type ========================================================\n",
    "parameters['fullfield'] = False\n",
    "# Define Geometry ========================================================\n",
    "parameters['NMEDIA'] = 1\n",
    "parameters['ZB'] = 1000 # Bottom depth (m)\n",
    "parameters['NZ'] = 1001 # Number of depth points\n",
    "parameters['Z'] = np.linspace(0, parameters['ZB'], parameters['NZ']) # Depth vector (m)\n",
    "parameters['RMAX'] = 10 # Maximum range (km)\n",
    "# parameters['X'] = np.arange(0, parameters['RMAX'], 0.001)  # <-------------------------------- ***\n",
    "parameters['NMESH'] = 0\n",
    "\n",
    "# Define Top Boundary =========================================================\n",
    "parameters['TOPOPT'] = \"NVF\" # C = Linear SSP interp; V = Vacuum in upper halfspace; F = Freq-dep Attenuation (dB/kmHz)\n",
    "parameters['SIGMA_TOP'] = 0 # RMS roughness (m)\n",
    "\n",
    "# Define Sound Speed Profile ================================================\n",
    "SSP_TYPE = \"isospeed\"\n",
    "[parameters.update({k: v}) for k, v in env.default_SSP(SSP_TYPE, parameters['Z'], CP=1500, dC=50).items()]\n",
    "\n",
    "# Define Bottom Boundary ======================================================\n",
    "parameters['BOTOPT'] = \"A\" # A = Acousto-elastic halfspace\n",
    "parameters['SIGMA_BOT'] = 0 # RMS roughness (m)\n",
    "parameters['CPB'] = 2000 # P-wave speed (m/s)\n",
    "parameters['CSB'] = 0 # S-wave speed (m/s)\n",
    "parameters['RHOB'] = 2.0 # Density (kg/m3)\n",
    "parameters['APB'] = 0.2 # P-wave attenuation (dB/kmHz)\n",
    "parameters['ASB'] = 0 # S-wave attenuation (dB/kmHz)\n",
    "\n",
    "# Phase Speed Limits ============================================================\n",
    "parameters['CLOW'] = 0 # Lower phase speed limit (m/s)\n",
    "parameters['CHIGH'] = parameters['CPB']  # Upper phase speed limit (m/s)\n",
    "\n",
    "# Define Source ============================================================\n",
    "# parameters['SD'] = 25\n",
    "# parameters['SR'] = 5\n",
    "parameters['NSD'] = 1 \n",
    "parameters['RD'] = np.arange(10, 110, 10)\n",
    "parameters['NRD'] = len(parameters['RD'])\n",
    "parameters['FREQ'] = 150\n",
    "\n",
    "fname = 'parameters.p'\n",
    "readwrite.dict2pkl(parameters, fname)"
   ]
  },
  {
   "cell_type": "code",
   "execution_count": 4,
   "id": "1ac923e0-848a-4305-ae66-002616838d87",
   "metadata": {},
   "outputs": [
    {
     "data": {
      "text/plain": [
       "array([ 10,  20,  30,  40,  50,  60,  70,  80,  90, 100])"
      ]
     },
     "execution_count": 4,
     "metadata": {},
     "output_type": "execute_result"
    }
   ],
   "source": [
    "parameters['RD']"
   ]
  },
  {
   "cell_type": "markdown",
   "id": "ecf5ca3b-50c7-4e1a-87c9-a7c2326cbc0a",
   "metadata": {},
   "source": [
    "### 1.2 Run KRAKEN Propagation Model"
   ]
  },
  {
   "cell_type": "code",
   "execution_count": 5,
   "id": "487dec79-98a7-455d-b884-c821885f62cc",
   "metadata": {},
   "outputs": [
    {
     "name": "stdout",
     "output_type": "stream",
     "text": [
      "0\n"
     ]
    }
   ],
   "source": [
    "sr = 5.3 # km\n",
    "sd = 270 # m\n",
    "\n",
    "p, pos, modes = evaluate_kraken(sr, sd)\n",
    "np.save('received', p)"
   ]
  },
  {
   "cell_type": "markdown",
   "id": "6cf82e42-dc35-4992-88ff-a29599a525bc",
   "metadata": {},
   "source": [
    "## 2. Estimate Acoustic Parameters"
   ]
  },
  {
   "cell_type": "markdown",
   "id": "2c868ef0-e9bb-400a-b619-bb4d4d59d57a",
   "metadata": {},
   "source": [
    "### 2.1 Define Parameter Space"
   ]
  },
  {
   "cell_type": "code",
   "execution_count": null,
   "id": "4a431819-fb40-45da-b8e8-9725f0648811",
   "metadata": {},
   "outputs": [],
   "source": [
    "space = [\n",
    "#     Real(0.5, 10, name='sr'),\n",
    "    Real(0, parameters['ZB'], name='sd'),\n",
    "]\n",
    "\n",
    "@use_named_args(space)\n",
    "def gp_loop(sr=5.3, sd=10):\n",
    "    p_rec = np.load('received.npy')\n",
    "    p_rep, _, _ = evaluate_kraken(sr, sd)\n",
    "    B = bartlett(p_rec, p_rep)\n",
    "    \n",
    "#     loss = -np.log10(B)\n",
    "    loss = 1 - np.log10(B)\n",
    "    \n",
    "    print('sr =', sr, 'sd =', sd, 'loss =', loss)\n",
    "\n",
    "    return loss"
   ]
  },
  {
   "cell_type": "markdown",
   "id": "2852d603-cfee-41a2-b498-647f2758e39e",
   "metadata": {},
   "source": [
    "### 2.2 Search for Optimal Parameters"
   ]
  },
  {
   "cell_type": "code",
   "execution_count": null,
   "id": "76da6e8e",
   "metadata": {},
   "outputs": [],
   "source": [
    "CALLS = 100\n",
    "\n",
    "result_gp = gp_minimize(\n",
    "    gp_loop,\n",
    "    space,\n",
    "    n_calls=CALLS,\n",
    "    n_initial_points=100\n",
    ")"
   ]
  },
  {
   "cell_type": "code",
   "execution_count": null,
   "id": "cbc0e97d-f095-4818-8a1d-a02238fde24e",
   "metadata": {},
   "outputs": [],
   "source": [
    "print(f'Range = {sr} km, Depth = {sd} m')"
   ]
  },
  {
   "cell_type": "code",
   "execution_count": null,
   "id": "a8618bb8-5d6e-42c7-ac7b-8dd573f6524a",
   "metadata": {},
   "outputs": [],
   "source": [
    "plot_convergence(result_gp)\n",
    "plot_objective(result_gp, n_points=100)"
   ]
  },
  {
   "cell_type": "code",
   "execution_count": null,
   "id": "843abfa9-a75a-4b9b-a6bf-8622f9cc565b",
   "metadata": {},
   "outputs": [],
   "source": [
    "# xy = np.asarray(result_gp.x_iters)\n",
    "# x = xy[:,0]\n",
    "# y = xy[:,1]\n",
    "# f = np.asarray(result_gp.func_vals)\n",
    "# plt.scatter(x, y, c=f)\n",
    "# plt.scatter(sr, sd, c='r', marker='*')\n",
    "# plt.xlabel('Range (km)')\n",
    "# plt.ylabel('Depth (m)')\n",
    "\n",
    "x = np.asarray(result_gp.x_iters)\n",
    "y = np.asarray(result_gp.func_vals)\n",
    "plt.scatter(x, y)\n",
    "# plt.scatter(sr, sd, c='r', marker='*')\n",
    "plt.xlabel('Depth (m)')\n",
    "plt.ylabel('Loss')"
   ]
  },
  {
   "cell_type": "code",
   "execution_count": 8,
   "id": "089a7e8f-6637-4739-a04d-f7bb3a85bc70",
   "metadata": {},
   "outputs": [
    {
     "name": "stdout",
     "output_type": "stream",
     "text": [
      "0\n",
      "sr = 3.701793635400527 sd = 948.4637838286445 loss = 2.1409695989412\n",
      "0\n",
      "sr = 1.1293365075993846 sd = 862.5438365362708 loss = 0.7345170302356117\n",
      "0\n",
      "sr = 5.402675570321069 sd = 974.6252740714012 loss = 1.3002097942700317\n",
      "0\n",
      "sr = 7.789563001471325 sd = 359.338585222211 loss = 1.600887410209225\n",
      "0\n",
      "sr = 3.175805309328581 sd = 987.4547606729514 loss = 1.1147414303613772\n",
      "0\n",
      "sr = 3.1025957471974364 sd = 933.2541143865548 loss = 0.876779237598269\n",
      "0\n",
      "sr = 1.3829736841136202 sd = 60.13483140836297 loss = 0.7532405663434343\n",
      "0\n",
      "sr = 3.6131719702306677 sd = 378.0035054482661 loss = 0.6809189367754076\n",
      "0\n",
      "sr = 2.892851929981208 sd = 956.038280586992 loss = 1.0230880307408263\n",
      "0\n",
      "sr = 7.423245402054585 sd = 295.41547117576624 loss = 0.5873680615412731\n",
      "0\n",
      "sr = 5.044967752046545 sd = 804.6534516593158 loss = 0.8384677516978307\n",
      "0\n",
      "sr = 1.903111900859154 sd = 603.1686761027236 loss = 0.7002382431196317\n",
      "0\n",
      "sr = 4.405289763972607 sd = 555.0333025143193 loss = 0.9064805955644193\n",
      "0\n",
      "sr = 6.341228725381281 sd = 938.2423578536248 loss = 1.042150380078903\n",
      "0\n",
      "sr = 5.338460977154997 sd = 643.2442562985681 loss = 2.220532892940943\n",
      "0\n",
      "sr = 8.775791261545228 sd = 363.19638284742524 loss = 1.2944149274087486\n",
      "0\n",
      "sr = 2.1367036759782225 sd = 33.07874172472425 loss = 0.996243145786984\n",
      "0\n",
      "sr = 4.182984447321891 sd = 711.7817581675714 loss = 1.582851203098068\n",
      "0\n",
      "sr = 8.005704096540917 sd = 761.104090895645 loss = 1.01376693139534\n",
      "0\n",
      "sr = 7.694004236357909 sd = 466.9358152023544 loss = 1.0638871193376325\n",
      "0\n",
      "sr = 9.408567337390958 sd = 471.4429102642488 loss = 1.096863841273187\n",
      "0\n",
      "sr = 7.040274141833229 sd = 513.2489808974085 loss = 1.4891091074571605\n",
      "0\n",
      "sr = 1.4218958322258315 sd = 163.8411180121511 loss = 1.3317959808135083\n",
      "0\n",
      "sr = 6.389919101085479 sd = 302.81202202905206 loss = 1.6620461762951084\n",
      "0\n",
      "sr = 9.820043896410505 sd = 11.448812025408374 loss = 1.018382379551655\n",
      "0\n",
      "sr = 9.808915584438093 sd = 961.6243027243634 loss = 1.442936741547454\n",
      "0\n",
      "sr = 6.661213426779811 sd = 368.2633422712427 loss = 1.3105457396248106\n",
      "0\n",
      "sr = 5.079877685907132 sd = 100.58828402208633 loss = 0.8605478346890667\n",
      "0\n",
      "sr = 9.536151041585732 sd = 54.45041522910056 loss = 1.3160917434914694\n",
      "0\n",
      "sr = 9.633280173578255 sd = 285.4575995537124 loss = 1.7235840450378817\n",
      "0\n",
      "sr = 6.429759317767897 sd = 665.4816267567436 loss = 1.3055377855713441\n",
      "0\n",
      "sr = 0.948199299764069 sd = 943.0860828058882 loss = 1.1928226422967754\n",
      "0\n",
      "sr = 8.408604077381641 sd = 899.4160324061972 loss = 2.4436561949662057\n",
      "0\n",
      "sr = 5.971827601163596 sd = 53.026559776488085 loss = 1.1937766421643587\n",
      "0\n",
      "sr = 8.898044867223263 sd = 109.55542137171906 loss = 0.8111569240787428\n",
      "0\n",
      "sr = 8.589742833657965 sd = 381.7523764782496 loss = 1.103548461127117\n",
      "0\n",
      "sr = 4.395114344767795 sd = 367.0563678873833 loss = 0.7819365914965815\n",
      "0\n",
      "sr = 6.8754441341755035 sd = 249.59474376639807 loss = 1.5654840320251768\n",
      "0\n",
      "sr = 8.5887020549304 sd = 706.3387112273426 loss = 1.1799055281094724\n",
      "0\n",
      "sr = 3.260125135890598 sd = 412.7831203246736 loss = 1.5318530939841395\n",
      "0\n",
      "sr = 3.5344518134083667 sd = 732.7843051177206 loss = 1.355871739602561\n",
      "0\n",
      "sr = 1.9754248860557149 sd = 569.7410955292003 loss = 1.3461133053154057\n",
      "0\n",
      "sr = 9.041741190542536 sd = 38.44121912796584 loss = 1.8564827337382628\n",
      "0\n",
      "sr = 7.778943552764332 sd = 651.6167781830003 loss = 1.8474196143311499\n",
      "0\n",
      "sr = 3.0478860354016724 sd = 131.92680380157853 loss = 0.6658063114602424\n",
      "0\n",
      "sr = 3.517849231476538 sd = 839.9355200468193 loss = 1.2328708367967156\n",
      "0\n",
      "sr = 3.74061685023521 sd = 61.426497051077845 loss = 1.3378598342118497\n",
      "0\n",
      "sr = 9.730007672991656 sd = 726.5989487345156 loss = 0.9087147534533528\n",
      "0\n",
      "sr = 5.255662558440504 sd = 909.3910623401028 loss = 1.2786027067103465\n",
      "0\n",
      "sr = 5.506961840803551 sd = 138.56502310072153 loss = 0.7230259551754994\n",
      "0\n",
      "sr = 7.5204953319882 sd = 293.0785977390492 loss = 0.8586183644390388\n",
      "0\n",
      "sr = 7.336249945416541 sd = 299.11080510296944 loss = 1.3292654286949954\n",
      "0\n",
      "sr = 4.8516492583964554 sd = 130.96789076514972 loss = 2.0743790812482645\n",
      "0\n",
      "sr = 3.058988287722022 sd = 513.0149740412193 loss = 0.887919041482716\n",
      "0\n",
      "sr = 2.9954563147376807 sd = 812.3938654613568 loss = 0.9677246593010462\n",
      "0\n",
      "sr = 7.464457340823863 sd = 802.9354579369291 loss = 1.0064939352737472\n",
      "0\n",
      "sr = 1.2119636705260062 sd = 672.3960103270138 loss = 0.9568725953390178\n",
      "0\n",
      "sr = 1.0887642979449055 sd = 110.49375605245112 loss = 1.1947505426436962\n",
      "0\n",
      "sr = 1.2872955240517265 sd = 19.76600257059554 loss = 1.3580401955756045\n",
      "0\n",
      "sr = 4.485505058214974 sd = 371.2330672699072 loss = 1.1268680496995156\n",
      "0\n",
      "sr = 7.430345761627996 sd = 287.44583822497054 loss = 1.9071403472022581\n",
      "0\n",
      "sr = 0.5002562283409331 sd = 466.4679305013929 loss = 1.0274396501762606\n",
      "0\n",
      "sr = 0.5005477587677527 sd = 111.14240949069534 loss = 1.64456089393817\n",
      "0\n",
      "sr = 0.5000825458283704 sd = 73.8868586089343 loss = 2.2613620529996004\n",
      "0\n",
      "sr = 3.003268849585972 sd = 164.04157053156547 loss = 2.106367824567144\n",
      "0\n",
      "sr = 1.8246638419471308 sd = 944.5396685956264 loss = 0.6993917735143427\n",
      "0\n",
      "sr = 0.5292589868236123 sd = 992.5329241445293 loss = 1.3147848774079378\n",
      "0\n",
      "sr = 1.8324142956133695 sd = 168.61669716553777 loss = 2.3748776510767637\n",
      "0\n",
      "sr = 9.973932555634454 sd = 995.8953875038934 loss = 0.7957614190302262\n",
      "0\n",
      "sr = 5.014863906673306 sd = 598.1121598639918 loss = 0.915224171178135\n",
      "0\n",
      "sr = 3.1856568120333324 sd = 607.9400381961362 loss = 0.8541161511263624\n",
      "0\n",
      "sr = 0.5 sd = 1000.0 loss = 1.3262633018719896\n",
      "0\n",
      "sr = 8.649984414739086 sd = 608.3850792079786 loss = 1.2076769512653787\n",
      "0\n",
      "sr = 0.5286554719582547 sd = 593.7008002876345 loss = 1.1540014676089196\n",
      "0\n",
      "sr = 2.970862558974572 sd = 602.8700212590163 loss = 2.104107079430106\n",
      "0\n",
      "sr = 3.654584376544657 sd = 378.95551750542353 loss = 1.9776134022813405\n",
      "0\n",
      "sr = 5.171371703787063 sd = 812.316440269839 loss = 1.794165943394919\n"
     ]
    },
    {
     "name": "stderr",
     "output_type": "stream",
     "text": [
      "/Users/williamjenkins/miniconda3/envs/gp/lib/python3.9/site-packages/skopt/optimizer/optimizer.py:449: UserWarning: The objective has been evaluated at this point before.\n",
      "  warnings.warn(\"The objective has been evaluated \"\n"
     ]
    },
    {
     "name": "stdout",
     "output_type": "stream",
     "text": [
      "0\n",
      "sr = 0.5 sd = 1000.0 loss = 1.3262633018719896\n",
      "0\n",
      "sr = 3.101381381457789 sd = 128.94614479830315 loss = 0.9523993197733027\n",
      "0\n",
      "sr = 8.632744798591471 sd = 857.4696554665396 loss = 0.8637719445403444\n",
      "0\n",
      "sr = 7.7129666028459924 sd = 866.6708485765602 loss = 1.6587069102728886\n",
      "0\n",
      "sr = 1.7428888175834278 sd = 791.0271862152138 loss = 2.026640719873292\n",
      "0\n",
      "sr = 9.961056664590256 sd = 7.2743906113257335 loss = 1.3470800173957471\n",
      "0\n",
      "sr = 9.973643475331261 sd = 994.4767235726829 loss = 1.622365237620766\n",
      "0\n",
      "sr = 9.91251316372599 sd = 5.738111874126429 loss = 1.7925462160319867\n",
      "0\n",
      "sr = 0.5070591513692989 sd = 994.8979089444574 loss = 1.3299407034772344\n",
      "0\n",
      "sr = 9.932898807609869 sd = 1.8750797255054912 loss = 0.6432733722591699\n",
      "0\n",
      "sr = 0.5264774343852073 sd = 998.3883552694745 loss = 1.313933641512607\n",
      "0\n",
      "sr = 9.98566228429998 sd = 999.2487830398492 loss = 1.406637858340158\n",
      "0\n",
      "sr = 9.957976924013277 sd = 8.164466942035766 loss = 1.8404846364691902\n",
      "0\n",
      "sr = 0.5116319914714476 sd = 7.258878389820646 loss = 1.6079202324770527\n",
      "0\n",
      "sr = 9.837853882380081 sd = 1.9467438839021471 loss = 0.2931967009573402\n",
      "0\n",
      "sr = 9.993659386348208 sd = 6.363299004515601 loss = 0.9799937506430538\n",
      "0\n",
      "sr = 9.986673557216946 sd = 984.7775304190474 loss = 1.0027780389821395\n",
      "0\n",
      "sr = 9.98748799386076 sd = 991.7906706505976 loss = 0.9768847184010045\n",
      "0\n",
      "sr = 0.500823987922297 sd = 6.84841821395177 loss = 1.4424369040214788\n",
      "0\n",
      "sr = 9.988370124955887 sd = 984.4579050326348 loss = 1.1775936786665149\n",
      "0\n",
      "sr = 9.99849326056085 sd = 9.47593060490759 loss = 1.0992208640143257\n",
      "0\n",
      "sr = 0.5197497173567504 sd = 0.8188607058718935 loss = 1.9666834158775295\n",
      "0\n",
      "sr = 9.987952730138563 sd = 994.0299026735747 loss = 1.4084894790477627\n"
     ]
    },
    {
     "data": {
      "text/plain": [
       "array([[<AxesSubplot:xlabel='sr', ylabel='Partial dependence'>,\n",
       "        <AxesSubplot:>],\n",
       "       [<AxesSubplot:xlabel='sr', ylabel='sd'>,\n",
       "        <AxesSubplot:xlabel='sd', ylabel='Partial dependence'>]],\n",
       "      dtype=object)"
      ]
     },
     "execution_count": 8,
     "metadata": {},
     "output_type": "execute_result"
    },
    {
     "data": {
      "image/png": "[encoded data removed]",
      "text/plain": [
       "<Figure size 432x288 with 1 Axes>"
      ]
     },
     "metadata": {
      "needs_background": "light"
     },
     "output_type": "display_data"
    },
    {
     "data": {
      "image/png": "[encoded data removed]",
      "text/plain": [
       "<Figure size 288x288 with 4 Axes>"
      ]
     },
     "metadata": {
      "needs_background": "light"
     },
     "output_type": "display_data"
    }
   ],
   "source": [
    "space = [\n",
    "    Real(0.5, parameters['RMAX'], name='sr'),\n",
    "    Real(0, parameters['ZB'], name='sd'),\n",
    "]\n",
    "\n",
    "@use_named_args(space)\n",
    "def gp_loop(sr=1, sd=10):\n",
    "    p_rec = np.load('received.npy')\n",
    "    p_rep, _, _ = evaluate_kraken(sr, sd)\n",
    "    B = bartlett(p_rec, p_rep)\n",
    "    \n",
    "    loss = 10 - np.log10(B)\n",
    "    \n",
    "    print('sr =', sr, 'sd =', sd, 'loss =', loss)\n",
    "\n",
    "    return loss\n",
    "\n",
    "CALLS = 100\n",
    "\n",
    "result_gp = gp_minimize(\n",
    "    gp_loop,\n",
    "    space,\n",
    "    n_calls=CALLS,\n",
    "    n_initial_points=50,\n",
    "    random_state=2009,\n",
    "    n_jobs=-1\n",
    ")\n",
    "\n",
    "plot_convergence(result_gp)\n",
    "plot_objective(result_gp, n_points=100)"
   ]
  },
  {
   "cell_type": "markdown",
   "id": "3294c489-d055-4331-95c8-c3ca0ffa0cc5",
   "metadata": {},
   "source": [
    "## 3. Compare to Matched Field Processing\n",
    "\n",
    "Before searching for the optimal acoustic parameters, perform matched field processing (MFP) to obtain the Bartlett output for every point in the depth-range grid in 1x1 m resolution."
   ]
  },
  {
   "cell_type": "code",
   "execution_count": null,
   "id": "023a7c78-736e-4089-9c2b-42c22d68ffd6",
   "metadata": {},
   "outputs": [],
   "source": [
    "ranges = np.linspace(0, parameters['RMAX'], 10001)\n",
    "depths = np.linspace(0, parameters['ZB'], 1001)\n",
    "\n",
    "B = np.zeros((len(depths), len(ranges)))\n",
    "\n",
    "for zz, sd in enumerate(depths):\n",
    "    for rr, sr in enumerate(ranges):\n",
    "        p_rec = np.load('received.npy')\n",
    "        p_rep, _, _, = evaluate_kraken(sr, sd)\n",
    "        B[zz, rr] = bartlett(p_rec, p_rep)\n",
    "\n",
    "\n"
   ]
  },
  {
   "cell_type": "code",
   "execution_count": null,
   "id": "f38f68dd-5e63-46a0-a42c-0a9ce353ddc3",
   "metadata": {},
   "outputs": [],
   "source": []
  }
 ],
 "metadata": {
  "kernelspec": {
   "display_name": "gp",
   "language": "python",
   "name": "gp"
  },
  "language_info": {
   "codemirror_mode": {
    "name": "ipython",
    "version": 3
   },
   "file_extension": ".py",
   "mimetype": "text/x-python",
   "name": "python",
   "nbconvert_exporter": "python",
   "pygments_lexer": "ipython3",
   "version": "3.9.7"
  }
 },
 "nbformat": 4,
 "nbformat_minor": 5
}
