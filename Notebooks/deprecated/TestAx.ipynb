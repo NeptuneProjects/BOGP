{
 "cells": [
  {
   "cell_type": "code",
   "execution_count": 1,
   "metadata": {},
   "outputs": [],
   "source": [
    "from ast import Param\n",
    "from inspect import Parameter\n",
    "from ax import (\n",
    "    ComparisonOp,\n",
    "    ParameterType,\n",
    "    RangeParameter,\n",
    "    ChoiceParameter,\n",
    "    FixedParameter,\n",
    "    SearchSpace,\n",
    "    Experiment,\n",
    "    OutcomeConstraint,\n",
    "    OrderConstraint,\n",
    "    SumConstraint,\n",
    "    OptimizationConfig,\n",
    "    Objective,\n",
    "    Metric,\n",
    "    Runner\n",
    ")\n",
    "from ax.metrics.l2norm import L2NormMetric\n",
    "from ax.metrics.hartmann6 import Hartmann6Metric\n",
    "from ax.modelbridge.registry import Models"
   ]
  },
  {
   "cell_type": "markdown",
   "metadata": {},
   "source": [
    "Define parameter space"
   ]
  },
  {
   "cell_type": "code",
   "execution_count": 2,
   "metadata": {},
   "outputs": [],
   "source": [
    "NUM_DIM = 6\n",
    "\n",
    "hartmann_search_space = SearchSpace(\n",
    "    parameters=[\n",
    "        RangeParameter(\n",
    "            name=f\"x{i}\", parameter_type=ParameterType.FLOAT, lower=0.0, upper=1.0\n",
    "        )\n",
    "        for i in range(NUM_DIM)\n",
    "    ]\n",
    ")\n",
    "\n",
    "choice_param = ChoiceParameter(\n",
    "    name=\"choice\",\n",
    "    values=[\"foo\", \"bar\"],\n",
    "    parameter_type=ParameterType.STRING,\n",
    "    is_ordered=False,\n",
    "    sort_values=False\n",
    ")\n",
    "fixed_param = FixedParameter(\n",
    "    name=\"fixed\",\n",
    "    value=[True],\n",
    "    parameter_type=ParameterType.BOOL\n",
    ")"
   ]
  },
  {
   "cell_type": "markdown",
   "metadata": {},
   "source": [
    "Define Constraints"
   ]
  },
  {
   "cell_type": "code",
   "execution_count": 3,
   "metadata": {},
   "outputs": [],
   "source": [
    "sum_constraint = SumConstraint(\n",
    "    parameters=[hartmann_search_space.parameters['x0'], hartmann_search_space.parameters['x1']],\n",
    "    is_upper_bound=True,\n",
    "    bound=5.0\n",
    ")\n",
    "order_constraint = OrderConstraint(\n",
    "    lower_parameter=hartmann_search_space.parameters['x0'],\n",
    "    upper_parameter=hartmann_search_space.parameters['x1']\n",
    ")"
   ]
  },
  {
   "cell_type": "markdown",
   "metadata": {},
   "source": [
    "Create optimization config"
   ]
  },
  {
   "cell_type": "code",
   "execution_count": 4,
   "metadata": {},
   "outputs": [],
   "source": [
    "param_names = [f\"x{i}\" for i in range(NUM_DIM)]\n",
    "optimization_config = OptimizationConfig(\n",
    "    objective=Objective(\n",
    "        metric=Hartmann6Metric(name=\"hartmann6\", param_names=param_names),\n",
    "        minimize=True\n",
    "    ),\n",
    "    outcome_constraints=[\n",
    "        OutcomeConstraint(\n",
    "            metric=L2NormMetric(\n",
    "                name=\"l2norm\", param_names=param_names, noise_sd=0.2\n",
    "            ),\n",
    "            op=ComparisonOp.LEQ,\n",
    "            bound=1.25,\n",
    "            relative=False\n",
    "        )\n",
    "    ]\n",
    ")"
   ]
  },
  {
   "cell_type": "markdown",
   "metadata": {},
   "source": [
    "Define a runner"
   ]
  },
  {
   "cell_type": "code",
   "execution_count": 5,
   "metadata": {},
   "outputs": [],
   "source": [
    "class MyRunner(Runner):\n",
    "    def run(self, trial):\n",
    "        trial_metadata = {\"name\": str(trial.index)}\n",
    "        return trial_metadata"
   ]
  },
  {
   "cell_type": "markdown",
   "metadata": {},
   "source": [
    "Create experiment"
   ]
  },
  {
   "cell_type": "code",
   "execution_count": 6,
   "metadata": {},
   "outputs": [],
   "source": [
    "exp = Experiment(\n",
    "    name=\"test_hartmann\",\n",
    "    search_space=hartmann_search_space,\n",
    "    optimization_config=optimization_config,\n",
    "    runner=MyRunner()\n",
    ")"
   ]
  },
  {
   "cell_type": "markdown",
   "metadata": {},
   "source": [
    "Perform optimization"
   ]
  },
  {
   "cell_type": "code",
   "execution_count": 7,
   "metadata": {},
   "outputs": [
    {
     "name": "stdout",
     "output_type": "stream",
     "text": [
      "Running Sobol initialization trials...\n",
      "Running GP+EI optimization trial 6/10...\n",
      "Running GP+EI optimization trial 7/10...\n",
      "Running GP+EI optimization trial 8/10...\n",
      "Running GP+EI optimization trial 9/10...\n",
      "Running GP+EI optimization trial 10/10...\n",
      "Done!\n"
     ]
    }
   ],
   "source": [
    "NUM_SOBOL_TRIALS = 5\n",
    "NUM_BOTORCH_TRIALS = 5\n",
    "\n",
    "print(\"Running Sobol initialization trials...\")\n",
    "sobol = Models.SOBOL(search_space=exp.search_space)\n",
    "\n",
    "for i in range(NUM_SOBOL_TRIALS):\n",
    "    # Produce a GeneratorRun from the model, which contains proposed \n",
    "    # arm(s) and other metadata\n",
    "    generator_run = sobol.gen(n=1)\n",
    "    # Add generator run to a trial to make it part of the epxeriment and\n",
    "    # evaluate arm(s) in it\n",
    "    trial = exp.new_trial(generator_run=generator_run)\n",
    "    # Start trial run to evaluate arm(s) in the trial\n",
    "    trial.run()\n",
    "    # Mark trial as completed to record when a trial run is completed\n",
    "    # and enable fetching of data for metrics on the experiment (by \n",
    "    # default, trials must be completed before metrics can fetch their \n",
    "    # data, unless a metric is explicitly configured otherwise)\n",
    "    trial.mark_completed()\n",
    "\n",
    "for i in range(NUM_BOTORCH_TRIALS):\n",
    "    print(\n",
    "        f\"Running GP+EI optimization trial {i + NUM_SOBOL_TRIALS + 1}/{NUM_SOBOL_TRIALS + NUM_BOTORCH_TRIALS}...\"\n",
    "    )\n",
    "    # Reinitialize GP+EI model at each step with updated data.\n",
    "    gpei = Models.BOTORCH(experiment=exp, data=exp.fetch_data())\n",
    "    generator_run = gpei.gen(n=1)\n",
    "    trial = exp.new_trial(generator_run=generator_run)\n",
    "    trial.run()\n",
    "    trial.mark_completed()\n",
    "\n",
    "print(\"Done!\")"
   ]
  },
  {
   "cell_type": "code",
   "execution_count": 8,
   "metadata": {},
   "outputs": [
    {
     "data": {
      "text/html": [
       "<div>\n",
       "<style scoped>\n",
       "    .dataframe tbody tr th:only-of-type {\n",
       "        vertical-align: middle;\n",
       "    }\n",
       "\n",
       "    .dataframe tbody tr th {\n",
       "        vertical-align: top;\n",
       "    }\n",
       "\n",
       "    .dataframe thead th {\n",
       "        text-align: right;\n",
       "    }\n",
       "</style>\n",
       "<table border=\"1\" class=\"dataframe\">\n",
       "  <thead>\n",
       "    <tr style=\"text-align: right;\">\n",
       "      <th></th>\n",
       "      <th>arm_name</th>\n",
       "      <th>metric_name</th>\n",
       "      <th>mean</th>\n",
       "      <th>sem</th>\n",
       "      <th>trial_index</th>\n",
       "      <th>n</th>\n",
       "      <th>frac_nonnull</th>\n",
       "    </tr>\n",
       "  </thead>\n",
       "  <tbody>\n",
       "    <tr>\n",
       "      <th>0</th>\n",
       "      <td>9_0</td>\n",
       "      <td>l2norm</td>\n",
       "      <td>1.230909</td>\n",
       "      <td>0.2</td>\n",
       "      <td>9</td>\n",
       "      <td>10000</td>\n",
       "      <td>1.230909</td>\n",
       "    </tr>\n",
       "    <tr>\n",
       "      <th>1</th>\n",
       "      <td>9_0</td>\n",
       "      <td>hartmann6</td>\n",
       "      <td>-2.082533</td>\n",
       "      <td>0.0</td>\n",
       "      <td>9</td>\n",
       "      <td>10000</td>\n",
       "      <td>-2.082533</td>\n",
       "    </tr>\n",
       "  </tbody>\n",
       "</table>\n",
       "</div>"
      ],
      "text/plain": [
       "  arm_name metric_name      mean  sem  trial_index      n  frac_nonnull\n",
       "0      9_0      l2norm  1.230909  0.2            9  10000      1.230909\n",
       "1      9_0   hartmann6 -2.082533  0.0            9  10000     -2.082533"
      ]
     },
     "execution_count": 8,
     "metadata": {},
     "output_type": "execute_result"
    }
   ],
   "source": [
    "trial_data = exp.fetch_trials_data([NUM_SOBOL_TRIALS + NUM_BOTORCH_TRIALS - 1])\n",
    "trial_data.df"
   ]
  },
  {
   "cell_type": "code",
   "execution_count": 9,
   "metadata": {},
   "outputs": [
    {
     "data": {
      "text/html": [
       "<div>\n",
       "<style scoped>\n",
       "    .dataframe tbody tr th:only-of-type {\n",
       "        vertical-align: middle;\n",
       "    }\n",
       "\n",
       "    .dataframe tbody tr th {\n",
       "        vertical-align: top;\n",
       "    }\n",
       "\n",
       "    .dataframe thead th {\n",
       "        text-align: right;\n",
       "    }\n",
       "</style>\n",
       "<table border=\"1\" class=\"dataframe\">\n",
       "  <thead>\n",
       "    <tr style=\"text-align: right;\">\n",
       "      <th></th>\n",
       "      <th>arm_name</th>\n",
       "      <th>metric_name</th>\n",
       "      <th>mean</th>\n",
       "      <th>sem</th>\n",
       "      <th>trial_index</th>\n",
       "      <th>n</th>\n",
       "      <th>frac_nonnull</th>\n",
       "    </tr>\n",
       "  </thead>\n",
       "  <tbody>\n",
       "    <tr>\n",
       "      <th>0</th>\n",
       "      <td>0_0</td>\n",
       "      <td>l2norm</td>\n",
       "      <td>0.737478</td>\n",
       "      <td>0.2</td>\n",
       "      <td>0</td>\n",
       "      <td>10000</td>\n",
       "      <td>0.737478</td>\n",
       "    </tr>\n",
       "    <tr>\n",
       "      <th>1</th>\n",
       "      <td>1_0</td>\n",
       "      <td>l2norm</td>\n",
       "      <td>1.984211</td>\n",
       "      <td>0.2</td>\n",
       "      <td>1</td>\n",
       "      <td>10000</td>\n",
       "      <td>1.984211</td>\n",
       "    </tr>\n",
       "    <tr>\n",
       "      <th>2</th>\n",
       "      <td>2_0</td>\n",
       "      <td>l2norm</td>\n",
       "      <td>1.327648</td>\n",
       "      <td>0.2</td>\n",
       "      <td>2</td>\n",
       "      <td>10000</td>\n",
       "      <td>1.327648</td>\n",
       "    </tr>\n",
       "    <tr>\n",
       "      <th>3</th>\n",
       "      <td>3_0</td>\n",
       "      <td>l2norm</td>\n",
       "      <td>1.429836</td>\n",
       "      <td>0.2</td>\n",
       "      <td>3</td>\n",
       "      <td>10000</td>\n",
       "      <td>1.429836</td>\n",
       "    </tr>\n",
       "    <tr>\n",
       "      <th>4</th>\n",
       "      <td>4_0</td>\n",
       "      <td>l2norm</td>\n",
       "      <td>1.322804</td>\n",
       "      <td>0.2</td>\n",
       "      <td>4</td>\n",
       "      <td>10000</td>\n",
       "      <td>1.322804</td>\n",
       "    </tr>\n",
       "    <tr>\n",
       "      <th>5</th>\n",
       "      <td>5_0</td>\n",
       "      <td>l2norm</td>\n",
       "      <td>1.176027</td>\n",
       "      <td>0.2</td>\n",
       "      <td>5</td>\n",
       "      <td>10000</td>\n",
       "      <td>1.176027</td>\n",
       "    </tr>\n",
       "    <tr>\n",
       "      <th>6</th>\n",
       "      <td>6_0</td>\n",
       "      <td>l2norm</td>\n",
       "      <td>0.994007</td>\n",
       "      <td>0.2</td>\n",
       "      <td>6</td>\n",
       "      <td>10000</td>\n",
       "      <td>0.994007</td>\n",
       "    </tr>\n",
       "    <tr>\n",
       "      <th>7</th>\n",
       "      <td>7_0</td>\n",
       "      <td>l2norm</td>\n",
       "      <td>1.113786</td>\n",
       "      <td>0.2</td>\n",
       "      <td>7</td>\n",
       "      <td>10000</td>\n",
       "      <td>1.113786</td>\n",
       "    </tr>\n",
       "    <tr>\n",
       "      <th>8</th>\n",
       "      <td>8_0</td>\n",
       "      <td>l2norm</td>\n",
       "      <td>1.402207</td>\n",
       "      <td>0.2</td>\n",
       "      <td>8</td>\n",
       "      <td>10000</td>\n",
       "      <td>1.402207</td>\n",
       "    </tr>\n",
       "    <tr>\n",
       "      <th>9</th>\n",
       "      <td>9_0</td>\n",
       "      <td>l2norm</td>\n",
       "      <td>1.120295</td>\n",
       "      <td>0.2</td>\n",
       "      <td>9</td>\n",
       "      <td>10000</td>\n",
       "      <td>1.120295</td>\n",
       "    </tr>\n",
       "    <tr>\n",
       "      <th>10</th>\n",
       "      <td>0_0</td>\n",
       "      <td>hartmann6</td>\n",
       "      <td>-0.258523</td>\n",
       "      <td>0.0</td>\n",
       "      <td>0</td>\n",
       "      <td>10000</td>\n",
       "      <td>-0.258523</td>\n",
       "    </tr>\n",
       "    <tr>\n",
       "      <th>11</th>\n",
       "      <td>1_0</td>\n",
       "      <td>hartmann6</td>\n",
       "      <td>-0.012964</td>\n",
       "      <td>0.0</td>\n",
       "      <td>1</td>\n",
       "      <td>10000</td>\n",
       "      <td>-0.012964</td>\n",
       "    </tr>\n",
       "    <tr>\n",
       "      <th>12</th>\n",
       "      <td>2_0</td>\n",
       "      <td>hartmann6</td>\n",
       "      <td>-0.038463</td>\n",
       "      <td>0.0</td>\n",
       "      <td>2</td>\n",
       "      <td>10000</td>\n",
       "      <td>-0.038463</td>\n",
       "    </tr>\n",
       "    <tr>\n",
       "      <th>13</th>\n",
       "      <td>3_0</td>\n",
       "      <td>hartmann6</td>\n",
       "      <td>-0.937712</td>\n",
       "      <td>0.0</td>\n",
       "      <td>3</td>\n",
       "      <td>10000</td>\n",
       "      <td>-0.937712</td>\n",
       "    </tr>\n",
       "    <tr>\n",
       "      <th>14</th>\n",
       "      <td>4_0</td>\n",
       "      <td>hartmann6</td>\n",
       "      <td>-0.140134</td>\n",
       "      <td>0.0</td>\n",
       "      <td>4</td>\n",
       "      <td>10000</td>\n",
       "      <td>-0.140134</td>\n",
       "    </tr>\n",
       "    <tr>\n",
       "      <th>15</th>\n",
       "      <td>5_0</td>\n",
       "      <td>hartmann6</td>\n",
       "      <td>-1.565172</td>\n",
       "      <td>0.0</td>\n",
       "      <td>5</td>\n",
       "      <td>10000</td>\n",
       "      <td>-1.565172</td>\n",
       "    </tr>\n",
       "    <tr>\n",
       "      <th>16</th>\n",
       "      <td>6_0</td>\n",
       "      <td>hartmann6</td>\n",
       "      <td>-1.618531</td>\n",
       "      <td>0.0</td>\n",
       "      <td>6</td>\n",
       "      <td>10000</td>\n",
       "      <td>-1.618531</td>\n",
       "    </tr>\n",
       "    <tr>\n",
       "      <th>17</th>\n",
       "      <td>7_0</td>\n",
       "      <td>hartmann6</td>\n",
       "      <td>-1.707064</td>\n",
       "      <td>0.0</td>\n",
       "      <td>7</td>\n",
       "      <td>10000</td>\n",
       "      <td>-1.707064</td>\n",
       "    </tr>\n",
       "    <tr>\n",
       "      <th>18</th>\n",
       "      <td>8_0</td>\n",
       "      <td>hartmann6</td>\n",
       "      <td>-0.836379</td>\n",
       "      <td>0.0</td>\n",
       "      <td>8</td>\n",
       "      <td>10000</td>\n",
       "      <td>-0.836379</td>\n",
       "    </tr>\n",
       "    <tr>\n",
       "      <th>19</th>\n",
       "      <td>9_0</td>\n",
       "      <td>hartmann6</td>\n",
       "      <td>-2.082533</td>\n",
       "      <td>0.0</td>\n",
       "      <td>9</td>\n",
       "      <td>10000</td>\n",
       "      <td>-2.082533</td>\n",
       "    </tr>\n",
       "  </tbody>\n",
       "</table>\n",
       "</div>"
      ],
      "text/plain": [
       "   arm_name metric_name      mean  sem  trial_index      n  frac_nonnull\n",
       "0       0_0      l2norm  0.737478  0.2            0  10000      0.737478\n",
       "1       1_0      l2norm  1.984211  0.2            1  10000      1.984211\n",
       "2       2_0      l2norm  1.327648  0.2            2  10000      1.327648\n",
       "3       3_0      l2norm  1.429836  0.2            3  10000      1.429836\n",
       "4       4_0      l2norm  1.322804  0.2            4  10000      1.322804\n",
       "5       5_0      l2norm  1.176027  0.2            5  10000      1.176027\n",
       "6       6_0      l2norm  0.994007  0.2            6  10000      0.994007\n",
       "7       7_0      l2norm  1.113786  0.2            7  10000      1.113786\n",
       "8       8_0      l2norm  1.402207  0.2            8  10000      1.402207\n",
       "9       9_0      l2norm  1.120295  0.2            9  10000      1.120295\n",
       "10      0_0   hartmann6 -0.258523  0.0            0  10000     -0.258523\n",
       "11      1_0   hartmann6 -0.012964  0.0            1  10000     -0.012964\n",
       "12      2_0   hartmann6 -0.038463  0.0            2  10000     -0.038463\n",
       "13      3_0   hartmann6 -0.937712  0.0            3  10000     -0.937712\n",
       "14      4_0   hartmann6 -0.140134  0.0            4  10000     -0.140134\n",
       "15      5_0   hartmann6 -1.565172  0.0            5  10000     -1.565172\n",
       "16      6_0   hartmann6 -1.618531  0.0            6  10000     -1.618531\n",
       "17      7_0   hartmann6 -1.707064  0.0            7  10000     -1.707064\n",
       "18      8_0   hartmann6 -0.836379  0.0            8  10000     -0.836379\n",
       "19      9_0   hartmann6 -2.082533  0.0            9  10000     -2.082533"
      ]
     },
     "execution_count": 9,
     "metadata": {},
     "output_type": "execute_result"
    }
   ],
   "source": [
    "exp.fetch_data().df"
   ]
  },
  {
   "cell_type": "code",
   "execution_count": 16,
   "metadata": {},
   "outputs": [
    {
     "data": {
      "application/vnd.plotly.v1+json": {
       "config": {
        "linkText": "Export to plot.ly",
        "plotlyServerURL": "https://plot.ly",
        "showLink": false
       },
       "data": [
        {
         "hoverinfo": "none",
         "legendgroup": "",
         "line": {
          "width": 0
         },
         "mode": "lines",
         "showlegend": false,
         "type": "scatter",
         "x": [
          1,
          2,
          3,
          4,
          5,
          6,
          7,
          8,
          9,
          10
         ],
         "y": [
          -0.258523249832698,
          -0.258523249832698,
          -0.258523249832698,
          -0.9377124740573631,
          -0.9377124740573631,
          -1.5651723242174305,
          -1.6185309799023004,
          -1.7070637706136917,
          -1.7070637706136917,
          -2.0825325017680782
         ]
        },
        {
         "fill": "tonexty",
         "fillcolor": "rgba(128,177,211,0.3)",
         "legendgroup": "objective value",
         "line": {
          "color": "rgba(128,177,211,1)"
         },
         "mode": "lines",
         "name": "objective value",
         "type": "scatter",
         "x": [
          1,
          2,
          3,
          4,
          5,
          6,
          7,
          8,
          9,
          10
         ],
         "y": [
          -0.258523249832698,
          -0.258523249832698,
          -0.258523249832698,
          -0.9377124740573631,
          -0.9377124740573631,
          -1.5651723242174305,
          -1.6185309799023004,
          -1.7070637706136917,
          -1.7070637706136917,
          -2.0825325017680782
         ]
        },
        {
         "fill": "tonexty",
         "fillcolor": "rgba(128,177,211,0.3)",
         "hoverinfo": "none",
         "legendgroup": "",
         "line": {
          "width": 0
         },
         "mode": "lines",
         "showlegend": false,
         "type": "scatter",
         "x": [
          1,
          2,
          3,
          4,
          5,
          6,
          7,
          8,
          9,
          10
         ],
         "y": [
          -0.258523249832698,
          -0.258523249832698,
          -0.258523249832698,
          -0.9377124740573631,
          -0.9377124740573631,
          -1.5651723242174305,
          -1.6185309799023004,
          -1.7070637706136917,
          -1.7070637706136917,
          -2.0825325017680782
         ]
        },
        {
         "line": {
          "color": "rgba(253,180,98,1)",
          "dash": "dash"
         },
         "mode": "lines",
         "name": "Optimum",
         "type": "scatter",
         "x": [
          1,
          10
         ],
         "y": [
          -3.32237,
          -3.32237
         ]
        }
       ],
       "layout": {
        "showlegend": true,
        "template": {
         "data": {
          "bar": [
           {
            "error_x": {
             "color": "#2a3f5f"
            },
            "error_y": {
             "color": "#2a3f5f"
            },
            "marker": {
             "line": {
              "color": "#E5ECF6",
              "width": 0.5
             },
             "pattern": {
              "fillmode": "overlay",
              "size": 10,
              "solidity": 0.2
             }
            },
            "type": "bar"
           }
          ],
          "barpolar": [
           {
            "marker": {
             "line": {
              "color": "#E5ECF6",
              "width": 0.5
             },
             "pattern": {
              "fillmode": "overlay",
              "size": 10,
              "solidity": 0.2
             }
            },
            "type": "barpolar"
           }
          ],
          "carpet": [
           {
            "aaxis": {
             "endlinecolor": "#2a3f5f",
             "gridcolor": "white",
             "linecolor": "white",
             "minorgridcolor": "white",
             "startlinecolor": "#2a3f5f"
            },
            "baxis": {
             "endlinecolor": "#2a3f5f",
             "gridcolor": "white",
             "linecolor": "white",
             "minorgridcolor": "white",
             "startlinecolor": "#2a3f5f"
            },
            "type": "carpet"
           }
          ],
          "choropleth": [
           {
            "colorbar": {
             "outlinewidth": 0,
             "ticks": ""
            },
            "type": "choropleth"
           }
          ],
          "contour": [
           {
            "colorbar": {
             "outlinewidth": 0,
             "ticks": ""
            },
            "colorscale": [
             [
              0,
              "#0d0887"
             ],
             [
              0.1111111111111111,
              "#46039f"
             ],
             [
              0.2222222222222222,
              "#7201a8"
             ],
             [
              0.3333333333333333,
              "#9c179e"
             ],
             [
              0.4444444444444444,
              "#bd3786"
             ],
             [
              0.5555555555555556,
              "#d8576b"
             ],
             [
              0.6666666666666666,
              "#ed7953"
             ],
             [
              0.7777777777777778,
              "#fb9f3a"
             ],
             [
              0.8888888888888888,
              "#fdca26"
             ],
             [
              1,
              "#f0f921"
             ]
            ],
            "type": "contour"
           }
          ],
          "contourcarpet": [
           {
            "colorbar": {
             "outlinewidth": 0,
             "ticks": ""
            },
            "type": "contourcarpet"
           }
          ],
          "heatmap": [
           {
            "colorbar": {
             "outlinewidth": 0,
             "ticks": ""
            },
            "colorscale": [
             [
              0,
              "#0d0887"
             ],
             [
              0.1111111111111111,
              "#46039f"
             ],
             [
              0.2222222222222222,
              "#7201a8"
             ],
             [
              0.3333333333333333,
              "#9c179e"
             ],
             [
              0.4444444444444444,
              "#bd3786"
             ],
             [
              0.5555555555555556,
              "#d8576b"
             ],
             [
              0.6666666666666666,
              "#ed7953"
             ],
             [
              0.7777777777777778,
              "#fb9f3a"
             ],
             [
              0.8888888888888888,
              "#fdca26"
             ],
             [
              1,
              "#f0f921"
             ]
            ],
            "type": "heatmap"
           }
          ],
          "heatmapgl": [
           {
            "colorbar": {
             "outlinewidth": 0,
             "ticks": ""
            },
            "colorscale": [
             [
              0,
              "#0d0887"
             ],
             [
              0.1111111111111111,
              "#46039f"
             ],
             [
              0.2222222222222222,
              "#7201a8"
             ],
             [
              0.3333333333333333,
              "#9c179e"
             ],
             [
              0.4444444444444444,
              "#bd3786"
             ],
             [
              0.5555555555555556,
              "#d8576b"
             ],
             [
              0.6666666666666666,
              "#ed7953"
             ],
             [
              0.7777777777777778,
              "#fb9f3a"
             ],
             [
              0.8888888888888888,
              "#fdca26"
             ],
             [
              1,
              "#f0f921"
             ]
            ],
            "type": "heatmapgl"
           }
          ],
          "histogram": [
           {
            "marker": {
             "pattern": {
              "fillmode": "overlay",
              "size": 10,
              "solidity": 0.2
             }
            },
            "type": "histogram"
           }
          ],
          "histogram2d": [
           {
            "colorbar": {
             "outlinewidth": 0,
             "ticks": ""
            },
            "colorscale": [
             [
              0,
              "#0d0887"
             ],
             [
              0.1111111111111111,
              "#46039f"
             ],
             [
              0.2222222222222222,
              "#7201a8"
             ],
             [
              0.3333333333333333,
              "#9c179e"
             ],
             [
              0.4444444444444444,
              "#bd3786"
             ],
             [
              0.5555555555555556,
              "#d8576b"
             ],
             [
              0.6666666666666666,
              "#ed7953"
             ],
             [
              0.7777777777777778,
              "#fb9f3a"
             ],
             [
              0.8888888888888888,
              "#fdca26"
             ],
             [
              1,
              "#f0f921"
             ]
            ],
            "type": "histogram2d"
           }
          ],
          "histogram2dcontour": [
           {
            "colorbar": {
             "outlinewidth": 0,
             "ticks": ""
            },
            "colorscale": [
             [
              0,
              "#0d0887"
             ],
             [
              0.1111111111111111,
              "#46039f"
             ],
             [
              0.2222222222222222,
              "#7201a8"
             ],
             [
              0.3333333333333333,
              "#9c179e"
             ],
             [
              0.4444444444444444,
              "#bd3786"
             ],
             [
              0.5555555555555556,
              "#d8576b"
             ],
             [
              0.6666666666666666,
              "#ed7953"
             ],
             [
              0.7777777777777778,
              "#fb9f3a"
             ],
             [
              0.8888888888888888,
              "#fdca26"
             ],
             [
              1,
              "#f0f921"
             ]
            ],
            "type": "histogram2dcontour"
           }
          ],
          "mesh3d": [
           {
            "colorbar": {
             "outlinewidth": 0,
             "ticks": ""
            },
            "type": "mesh3d"
           }
          ],
          "parcoords": [
           {
            "line": {
             "colorbar": {
              "outlinewidth": 0,
              "ticks": ""
             }
            },
            "type": "parcoords"
           }
          ],
          "pie": [
           {
            "automargin": true,
            "type": "pie"
           }
          ],
          "scatter": [
           {
            "marker": {
             "colorbar": {
              "outlinewidth": 0,
              "ticks": ""
             }
            },
            "type": "scatter"
           }
          ],
          "scatter3d": [
           {
            "line": {
             "colorbar": {
              "outlinewidth": 0,
              "ticks": ""
             }
            },
            "marker": {
             "colorbar": {
              "outlinewidth": 0,
              "ticks": ""
             }
            },
            "type": "scatter3d"
           }
          ],
          "scattercarpet": [
           {
            "marker": {
             "colorbar": {
              "outlinewidth": 0,
              "ticks": ""
             }
            },
            "type": "scattercarpet"
           }
          ],
          "scattergeo": [
           {
            "marker": {
             "colorbar": {
              "outlinewidth": 0,
              "ticks": ""
             }
            },
            "type": "scattergeo"
           }
          ],
          "scattergl": [
           {
            "marker": {
             "colorbar": {
              "outlinewidth": 0,
              "ticks": ""
             }
            },
            "type": "scattergl"
           }
          ],
          "scattermapbox": [
           {
            "marker": {
             "colorbar": {
              "outlinewidth": 0,
              "ticks": ""
             }
            },
            "type": "scattermapbox"
           }
          ],
          "scatterpolar": [
           {
            "marker": {
             "colorbar": {
              "outlinewidth": 0,
              "ticks": ""
             }
            },
            "type": "scatterpolar"
           }
          ],
          "scatterpolargl": [
           {
            "marker": {
             "colorbar": {
              "outlinewidth": 0,
              "ticks": ""
             }
            },
            "type": "scatterpolargl"
           }
          ],
          "scatterternary": [
           {
            "marker": {
             "colorbar": {
              "outlinewidth": 0,
              "ticks": ""
             }
            },
            "type": "scatterternary"
           }
          ],
          "surface": [
           {
            "colorbar": {
             "outlinewidth": 0,
             "ticks": ""
            },
            "colorscale": [
             [
              0,
              "#0d0887"
             ],
             [
              0.1111111111111111,
              "#46039f"
             ],
             [
              0.2222222222222222,
              "#7201a8"
             ],
             [
              0.3333333333333333,
              "#9c179e"
             ],
             [
              0.4444444444444444,
              "#bd3786"
             ],
             [
              0.5555555555555556,
              "#d8576b"
             ],
             [
              0.6666666666666666,
              "#ed7953"
             ],
             [
              0.7777777777777778,
              "#fb9f3a"
             ],
             [
              0.8888888888888888,
              "#fdca26"
             ],
             [
              1,
              "#f0f921"
             ]
            ],
            "type": "surface"
           }
          ],
          "table": [
           {
            "cells": {
             "fill": {
              "color": "#EBF0F8"
             },
             "line": {
              "color": "white"
             }
            },
            "header": {
             "fill": {
              "color": "#C8D4E3"
             },
             "line": {
              "color": "white"
             }
            },
            "type": "table"
           }
          ]
         },
         "layout": {
          "annotationdefaults": {
           "arrowcolor": "#2a3f5f",
           "arrowhead": 0,
           "arrowwidth": 1
          },
          "autotypenumbers": "strict",
          "coloraxis": {
           "colorbar": {
            "outlinewidth": 0,
            "ticks": ""
           }
          },
          "colorscale": {
           "diverging": [
            [
             0,
             "#8e0152"
            ],
            [
             0.1,
             "#c51b7d"
            ],
            [
             0.2,
             "#de77ae"
            ],
            [
             0.3,
             "#f1b6da"
            ],
            [
             0.4,
             "#fde0ef"
            ],
            [
             0.5,
             "#f7f7f7"
            ],
            [
             0.6,
             "#e6f5d0"
            ],
            [
             0.7,
             "#b8e186"
            ],
            [
             0.8,
             "#7fbc41"
            ],
            [
             0.9,
             "#4d9221"
            ],
            [
             1,
             "#276419"
            ]
           ],
           "sequential": [
            [
             0,
             "#0d0887"
            ],
            [
             0.1111111111111111,
             "#46039f"
            ],
            [
             0.2222222222222222,
             "#7201a8"
            ],
            [
             0.3333333333333333,
             "#9c179e"
            ],
            [
             0.4444444444444444,
             "#bd3786"
            ],
            [
             0.5555555555555556,
             "#d8576b"
            ],
            [
             0.6666666666666666,
             "#ed7953"
            ],
            [
             0.7777777777777778,
             "#fb9f3a"
            ],
            [
             0.8888888888888888,
             "#fdca26"
            ],
            [
             1,
             "#f0f921"
            ]
           ],
           "sequentialminus": [
            [
             0,
             "#0d0887"
            ],
            [
             0.1111111111111111,
             "#46039f"
            ],
            [
             0.2222222222222222,
             "#7201a8"
            ],
            [
             0.3333333333333333,
             "#9c179e"
            ],
            [
             0.4444444444444444,
             "#bd3786"
            ],
            [
             0.5555555555555556,
             "#d8576b"
            ],
            [
             0.6666666666666666,
             "#ed7953"
            ],
            [
             0.7777777777777778,
             "#fb9f3a"
            ],
            [
             0.8888888888888888,
             "#fdca26"
            ],
            [
             1,
             "#f0f921"
            ]
           ]
          },
          "colorway": [
           "#636efa",
           "#EF553B",
           "#00cc96",
           "#ab63fa",
           "#FFA15A",
           "#19d3f3",
           "#FF6692",
           "#B6E880",
           "#FF97FF",
           "#FECB52"
          ],
          "font": {
           "color": "#2a3f5f"
          },
          "geo": {
           "bgcolor": "white",
           "lakecolor": "white",
           "landcolor": "#E5ECF6",
           "showlakes": true,
           "showland": true,
           "subunitcolor": "white"
          },
          "hoverlabel": {
           "align": "left"
          },
          "hovermode": "closest",
          "mapbox": {
           "style": "light"
          },
          "paper_bgcolor": "white",
          "plot_bgcolor": "#E5ECF6",
          "polar": {
           "angularaxis": {
            "gridcolor": "white",
            "linecolor": "white",
            "ticks": ""
           },
           "bgcolor": "#E5ECF6",
           "radialaxis": {
            "gridcolor": "white",
            "linecolor": "white",
            "ticks": ""
           }
          },
          "scene": {
           "xaxis": {
            "backgroundcolor": "#E5ECF6",
            "gridcolor": "white",
            "gridwidth": 2,
            "linecolor": "white",
            "showbackground": true,
            "ticks": "",
            "zerolinecolor": "white"
           },
           "yaxis": {
            "backgroundcolor": "#E5ECF6",
            "gridcolor": "white",
            "gridwidth": 2,
            "linecolor": "white",
            "showbackground": true,
            "ticks": "",
            "zerolinecolor": "white"
           },
           "zaxis": {
            "backgroundcolor": "#E5ECF6",
            "gridcolor": "white",
            "gridwidth": 2,
            "linecolor": "white",
            "showbackground": true,
            "ticks": "",
            "zerolinecolor": "white"
           }
          },
          "shapedefaults": {
           "line": {
            "color": "#2a3f5f"
           }
          },
          "ternary": {
           "aaxis": {
            "gridcolor": "white",
            "linecolor": "white",
            "ticks": ""
           },
           "baxis": {
            "gridcolor": "white",
            "linecolor": "white",
            "ticks": ""
           },
           "bgcolor": "#E5ECF6",
           "caxis": {
            "gridcolor": "white",
            "linecolor": "white",
            "ticks": ""
           }
          },
          "title": {
           "x": 0.05
          },
          "xaxis": {
           "automargin": true,
           "gridcolor": "white",
           "linecolor": "white",
           "ticks": "",
           "title": {
            "standoff": 15
           },
           "zerolinecolor": "white",
           "zerolinewidth": 2
          },
          "yaxis": {
           "automargin": true,
           "gridcolor": "white",
           "linecolor": "white",
           "ticks": "",
           "title": {
            "standoff": 15
           },
           "zerolinecolor": "white",
           "zerolinewidth": 2
          }
         }
        },
        "title": {
         "text": ""
        },
        "xaxis": {
         "title": {
          "text": "Iteration"
         }
        },
        "yaxis": {
         "title": {
          "text": ""
         }
        }
       }
      }
     },
     "metadata": {},
     "output_type": "display_data"
    }
   ],
   "source": [
    "import numpy as np\n",
    "from ax.plot.trace import optimization_trace_single_method\n",
    "from ax.utils.notebook.plotting import render\n",
    "\n",
    "objective_means = np.array([[trial.objective_mean for trial in exp.trials.values()]])\n",
    "best_objective_plot = optimization_trace_single_method(\n",
    "    y=np.minimum.accumulate(objective_means, axis=1),\n",
    "    optimum=-3.32237\n",
    ")\n",
    "render(best_objective_plot)"
   ]
  },
  {
   "cell_type": "code",
   "execution_count": 20,
   "metadata": {},
   "outputs": [
    {
     "data": {
      "text/plain": [
       "dict_values([Trial(experiment_name='test_hartmann', index=0, status=TrialStatus.COMPLETED, arm=Arm(name='0_0', parameters={'x0': 0.21083658933639526, 'x1': 0.669579803943634, 'x2': 0.010693836025893688, 'x3': 0.4864373207092285, 'x4': 0.0744972676038742, 'x5': 0.5185708999633789})), Trial(experiment_name='test_hartmann', index=1, status=TrialStatus.COMPLETED, arm=Arm(name='1_0', parameters={'x0': 0.8112051384523511, 'x1': 0.3749852441251278, 'x2': 0.9852933781221509, 'x3': 0.7664044266566634, 'x4': 0.815806488506496, 'x5': 0.16452474053949118})), Trial(experiment_name='test_hartmann', index=2, status=TrialStatus.COMPLETED, arm=Arm(name='2_0', parameters={'x0': 0.7306736595928669, 'x1': 0.9600422009825706, 'x2': 0.3201379394158721, 'x3': 0.21861496847122908, 'x4': 0.5855912063270807, 'x5': 0.44095097854733467})), Trial(experiment_name='test_hartmann', index=3, status=TrialStatus.COMPLETED, arm=Arm(name='3_0', parameters={'x0': 0.25535851903259754, 'x1': 0.00518511887639761, 'x2': 0.6853706995025277, 'x3': 0.5596173973754048, 'x4': 0.3364829532802105, 'x5': 0.8681251360103488})), Trial(experiment_name='test_hartmann', index=4, status=TrialStatus.COMPLETED, arm=Arm(name='4_0', parameters={'x0': 0.44641156774014235, 'x1': 0.767420400865376, 'x2': 0.7611106941476464, 'x3': 0.7088500102981925, 'x4': 0.40047147311270237, 'x5': 0.7421251926571131})), Trial(experiment_name='test_hartmann', index=5, status=TrialStatus.COMPLETED, arm=Arm(name='5_0', parameters={'x0': 0.2045493211606158, 'x1': 0.011934318588944596, 'x2': 0.46614068540876, 'x3': 0.4973149769002271, 'x4': 0.25553175907934417, 'x5': 0.8148960606184682})), Trial(experiment_name='test_hartmann', index=6, status=TrialStatus.COMPLETED, arm=Arm(name='6_0', parameters={'x0': 0.18772568014572508, 'x1': 0.022881998841328507, 'x2': 0.33280061137103606, 'x3': 0.47762435266210046, 'x4': 0.22302164637819, 'x5': 0.7929002383157265})), Trial(experiment_name='test_hartmann', index=7, status=TrialStatus.COMPLETED, arm=Arm(name='7_0', parameters={'x0': 0.1320572437107244, 'x1': 0.0, 'x2': 0.4304931492765003, 'x3': 0.42046282710478716, 'x4': 0.1836835631444368, 'x5': 0.7851248272592976})), Trial(experiment_name='test_hartmann', index=8, status=TrialStatus.COMPLETED, arm=Arm(name='8_0', parameters={'x0': 0.1483431383300271, 'x1': 0.0, 'x2': 0.431001060878291, 'x3': 0.449481646541153, 'x4': 0.10158596540179556, 'x5': 0.8660342234714321})), Trial(experiment_name='test_hartmann', index=9, status=TrialStatus.COMPLETED, arm=Arm(name='9_0', parameters={'x0': 0.1589738996768799, 'x1': 0.0, 'x2': 0.4895411186333355, 'x3': 0.44556607241706575, 'x4': 0.2560294066675014, 'x5': 0.7530034855373482}))])"
      ]
     },
     "execution_count": 20,
     "metadata": {},
     "output_type": "execute_result"
    }
   ],
   "source": [
    "exp.trials.values()"
   ]
  },
  {
   "cell_type": "code",
   "execution_count": null,
   "metadata": {},
   "outputs": [],
   "source": []
  }
 ],
 "metadata": {
  "interpreter": {
   "hash": "ff6c812350622bc813be585c67b4988ceec462579cda5dbaae7b7c3f5ee7a1d0"
  },
  "kernelspec": {
   "display_name": "gp",
   "language": "python",
   "name": "gp"
  },
  "language_info": {
   "codemirror_mode": {
    "name": "ipython",
    "version": 3
   },
   "file_extension": ".py",
   "mimetype": "text/x-python",
   "name": "python",
   "nbconvert_exporter": "python",
   "pygments_lexer": "ipython3",
   "version": "3.9.7"
  },
  "orig_nbformat": 4
 },
 "nbformat": 4,
 "nbformat_minor": 2
}
