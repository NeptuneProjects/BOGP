{
 "cells": [
  {
   "cell_type": "code",
   "execution_count": 1,
   "metadata": {},
   "outputs": [],
   "source": [
    "import torch\n",
    "\n",
    "from botorch.fit import fit_gpytorch_model\n",
    "from botorch.models import SingleTaskGP\n",
    "from botorch.test_functions import Rastrigin\n",
    "from gpytorch.mlls import ExactMarginalLogLikelihood\n",
    "from botorch.acquisition import qExpectedImprovement\n",
    "from botorch.optim import optimize_acqf\n",
    "\n",
    "objective_func = Rastrigin(dim=2, negate=True)"
   ]
  },
  {
   "cell_type": "code",
   "execution_count": 2,
   "metadata": {},
   "outputs": [
    {
     "name": "stdout",
     "output_type": "stream",
     "text": [
      "tensor([[[ 2.1882e+00,  4.6704e+00],\n",
      "         [-1.2216e+00, -2.8524e+00],\n",
      "         [-4.8043e+00,  2.9993e+00],\n",
      "         [-1.4712e-01,  1.0795e+00],\n",
      "         [ 3.2409e+00,  4.0057e+00]],\n",
      "\n",
      "        [[ 1.6086e+00,  4.6083e+00],\n",
      "         [ 4.2703e+00, -2.8195e+00],\n",
      "         [-1.8699e-01,  1.1050e+00],\n",
      "         [-1.0876e-01, -1.0809e-01],\n",
      "         [ 1.4981e+00,  1.4335e+00]],\n",
      "\n",
      "        [[-4.0580e+00,  2.2832e+00],\n",
      "         [ 1.1884e+00, -2.3990e-01],\n",
      "         [-2.8744e+00, -3.8886e+00],\n",
      "         [ 9.7104e-01,  1.3537e-01],\n",
      "         [-7.7807e-02, -7.8972e-02]],\n",
      "\n",
      "        [[-2.2107e+00,  5.1200e+00],\n",
      "         [-2.9311e-01,  1.1833e+00],\n",
      "         [-4.6052e+00,  2.4626e+00],\n",
      "         [-3.9064e+00, -1.1604e+00],\n",
      "         [-9.4558e-02,  1.0440e+00]],\n",
      "\n",
      "        [[ 4.3235e+00,  2.5091e+00],\n",
      "         [-2.0174e+00, -4.7033e+00],\n",
      "         [ 1.2711e+00, -3.3341e-01],\n",
      "         [ 4.9098e+00, -9.7981e-01],\n",
      "         [ 1.0293e+00, -4.3708e-02]],\n",
      "\n",
      "        [[-1.3678e-01,  1.0684e+00],\n",
      "         [-3.4183e-01,  1.2239e+00],\n",
      "         [-5.1200e+00, -1.8558e+00],\n",
      "         [ 3.2311e+00, -5.0935e+00],\n",
      "         [-1.1440e-01, -1.1341e-01]],\n",
      "\n",
      "        [[ 9.3028e-01,  5.1200e+00],\n",
      "         [ 2.6781e-01,  4.6865e-01],\n",
      "         [ 5.0300e+00,  1.7714e+00],\n",
      "         [-2.0708e+00, -4.9209e+00],\n",
      "         [ 1.0651e+00,  1.0458e+00]],\n",
      "\n",
      "        [[ 5.1200e+00,  1.2682e+00],\n",
      "         [-3.8743e+00, -3.3498e+00],\n",
      "         [ 4.1941e+00, -4.4288e+00],\n",
      "         [ 2.8943e+00,  3.7735e+00],\n",
      "         [-3.9858e+00, -4.5258e-02]],\n",
      "\n",
      "        [[-5.0812e+00,  1.4798e+00],\n",
      "         [-2.5135e-01, -2.4953e-01],\n",
      "         [ 4.8737e+00,  2.0684e+00],\n",
      "         [ 1.4675e+00,  1.4040e+00],\n",
      "         [-4.4623e-02, -4.7288e-02]],\n",
      "\n",
      "        [[-6.9675e-02, -7.1587e-02],\n",
      "         [ 4.5001e+00,  2.1940e+00],\n",
      "         [-4.8526e+00, -3.7837e-01],\n",
      "         [-2.5693e+00, -2.9397e+00],\n",
      "         [ 1.4755e+00,  1.4119e+00]],\n",
      "\n",
      "        [[ 4.8026e+00, -5.7233e-01],\n",
      "         [-4.2288e+00, -1.1892e+00],\n",
      "         [-1.0042e-01, -1.0024e-01],\n",
      "         [-3.7960e+00,  1.5615e-01],\n",
      "         [-1.8789e-01,  1.1056e+00]],\n",
      "\n",
      "        [[-4.0502e+00, -1.1114e+00],\n",
      "         [ 2.9854e+00, -4.6879e+00],\n",
      "         [ 4.8159e+00, -7.8119e-01],\n",
      "         [-1.8441e-01, -4.0076e+00],\n",
      "         [-6.8519e-02, -7.0527e-02]],\n",
      "\n",
      "        [[ 3.6759e+00, -1.7922e+00],\n",
      "         [-4.1850e+00,  2.0999e-01],\n",
      "         [-3.9178e+00,  4.4510e+00],\n",
      "         [-6.9881e-02, -7.1778e-02],\n",
      "         [ 3.5129e+00, -3.6807e+00]],\n",
      "\n",
      "        [[-1.6627e+00,  4.8251e+00],\n",
      "         [ 3.1477e-03, -5.1167e+00],\n",
      "         [ 1.0798e+00, -1.0856e-01],\n",
      "         [ 4.0680e+00, -2.8445e+00],\n",
      "         [-1.7258e-01,  1.0956e+00]],\n",
      "\n",
      "        [[-1.0768e-01, -1.0708e-01],\n",
      "         [-2.9334e+00,  3.8929e+00],\n",
      "         [-1.8474e-01,  1.1036e+00],\n",
      "         [-2.5698e+00, -2.7569e+00],\n",
      "         [ 5.1085e+00,  3.3737e+00]],\n",
      "\n",
      "        [[-3.7605e+00, -2.7812e-01],\n",
      "         [-4.8238e+00, -3.4566e+00],\n",
      "         [ 3.4293e+00, -2.3731e+00],\n",
      "         [-1.4520e-01,  1.0783e+00],\n",
      "         [ 4.0478e-01, -4.1801e-01]],\n",
      "\n",
      "        [[-4.3853e-02, -4.6659e-02],\n",
      "         [-2.6275e+00, -4.9186e+00],\n",
      "         [ 3.5010e+00, -4.9642e+00],\n",
      "         [-3.7555e+00,  4.3550e+00],\n",
      "         [-2.5238e-01, -2.5046e-01]],\n",
      "\n",
      "        [[ 1.0640e+00,  1.0451e+00],\n",
      "         [-3.6798e+00, -2.9282e+00],\n",
      "         [-1.0526e+00, -5.1200e+00],\n",
      "         [-4.4526e+00,  1.3737e+00],\n",
      "         [ 5.1200e+00, -2.6754e-01]],\n",
      "\n",
      "        [[ 1.1839e+00, -2.3464e-01],\n",
      "         [-5.0314e+00, -2.7416e-01],\n",
      "         [ 4.8642e+00, -5.1076e+00],\n",
      "         [ 4.7864e+00, -9.3748e-01],\n",
      "         [-7.9294e-02, -8.0344e-02]],\n",
      "\n",
      "        [[-2.8253e-01,  1.1749e+00],\n",
      "         [ 2.0452e+00, -3.0462e+00],\n",
      "         [-1.5500e+00, -3.7920e+00],\n",
      "         [ 4.1832e+00, -4.4029e+00],\n",
      "         [-9.2391e-02,  1.0428e+00]]])\n",
      "tensor([5.6696, 6.6312, 4.9077, 5.9883, 3.8340, 6.8142, 2.4188, 2.2722, 5.2009,\n",
      "        4.8984, 6.5641, 4.7928, 4.8032, 5.9702, 6.5763, 5.4707, 5.1317, 2.7525,\n",
      "        5.0705, 5.9874], dtype=torch.float64)\n",
      "tensor([[-0.1368,  1.0684],\n",
      "        [-0.3418,  1.2239],\n",
      "        [-5.1200, -1.8558],\n",
      "        [ 3.2311, -5.0935],\n",
      "        [-0.1144, -0.1134]])\n"
     ]
    }
   ],
   "source": [
    "torch.manual_seed(1)\n",
    "train_x = torch.rand(100, 2, dtype=torch.double)\n",
    "train_obj = objective_func(train_x).unsqueeze(-1)\n",
    "model = SingleTaskGP(train_X=train_x, train_Y=train_obj)\n",
    "mll = ExactMarginalLogLikelihood(model.likelihood, model)\n",
    "fit_gpytorch_model(mll);\n",
    "\n",
    "best_value = train_obj.max()\n",
    "qEI = qExpectedImprovement(model=model, best_f=best_value)\n",
    "\n",
    "new_point_analytic, _ = optimize_acqf(\n",
    "    acq_function=qEI,\n",
    "    bounds=torch.tensor([[-5.12] * 2, [5.12] * 2]),\n",
    "    q=5,\n",
    "    num_restarts=20,\n",
    "    raw_samples=512,\n",
    "    options={\"batch_limit\": 20, \"init_batch_limit\": 20},\n",
    ")\n",
    "# print(\"=\" * 60)\n",
    "print(new_point_analytic)"
   ]
  },
  {
   "cell_type": "code",
   "execution_count": 9,
   "metadata": {},
   "outputs": [],
   "source": [
    "import matplotlib.pyplot as plt\n",
    "import numpy as np\n",
    "from scipy.optimize import minimize\n",
    "\n",
    "x0 = np.random.randn(10, 2)\n",
    "\n",
    "bounds = ((-10, 10), (-10, 10))\n",
    "\n",
    "def f(x):\n",
    "    return x[0] ** 2 + x[1]"
   ]
  },
  {
   "cell_type": "code",
   "execution_count": null,
   "metadata": {},
   "outputs": [],
   "source": [
    "res = minimize(f, x0, method=\"L-BFGS-B\", bounds=bounds)"
   ]
  },
  {
   "cell_type": "code",
   "execution_count": 47,
   "metadata": {},
   "outputs": [
    {
     "data": {
      "text/plain": [
       "2"
      ]
     },
     "execution_count": 47,
     "metadata": {},
     "output_type": "execute_result"
    }
   ],
   "source": [
    "len(bounds)"
   ]
  },
  {
   "cell_type": "code",
   "execution_count": 33,
   "metadata": {},
   "outputs": [
    {
     "data": {
      "text/plain": [
       "<StemContainer object of 3 artists>"
      ]
     },
     "execution_count": 33,
     "metadata": {},
     "output_type": "execute_result"
    },
    {
     "data": {
      "image/png": "[encoded data removed]",
      "text/plain": [
       "<Figure size 432x288 with 1 Axes>"
      ]
     },
     "metadata": {
      "needs_background": "light"
     },
     "output_type": "display_data"
    }
   ],
   "source": [
    "x = torch.randn(100)\n",
    "y = -x ** 2 + 10\n",
    "z = torch.exp((y - y.mean()) / y.std())\n",
    "idc= torch.multinomial(z, 90)\n",
    "\n",
    "plt.scatter(x, y)\n",
    "plt.scatter(x, z)\n",
    "plt.stem(x[idc].numpy(), z[idc].numpy())"
   ]
  }
 ],
 "metadata": {
  "kernelspec": {
   "display_name": "gp",
   "language": "python",
   "name": "python3"
  },
  "language_info": {
   "codemirror_mode": {
    "name": "ipython",
    "version": 3
   },
   "file_extension": ".py",
   "mimetype": "text/x-python",
   "name": "python",
   "nbconvert_exporter": "python",
   "pygments_lexer": "ipython3",
   "version": "3.9.7 | packaged by conda-forge | (default, Sep  2 2021, 17:58:46) \n[Clang 11.1.0 ]"
  },
  "orig_nbformat": 4,
  "vscode": {
   "interpreter": {
    "hash": "ff6c812350622bc813be585c67b4988ceec462579cda5dbaae7b7c3f5ee7a1d0"
   }
  }
 },
 "nbformat": 4,
 "nbformat_minor": 2
}
