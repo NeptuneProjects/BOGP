{
 "cells": [
  {
   "cell_type": "markdown",
   "id": "383dfaad",
   "metadata": {},
   "source": [
    "# Gaussian Process Regression for Bayesian Optimization & Acoustic Parameter Estimation"
   ]
  },
  {
   "cell_type": "code",
   "execution_count": 1,
   "id": "25f628b1",
   "metadata": {},
   "outputs": [],
   "source": [
    "import math\n",
    "import matplotlib.gridspec as gridspec\n",
    "import matplotlib.pyplot as plt\n",
    "import numpy as np\n",
    "import torch\n",
    "import torch.autograd as autograd\n",
    "import torch.optim as optim\n",
    "from torch.distributions import constraints, transform_to\n",
    "\n",
    "import pyro\n",
    "import pyro.contrib.gp as gp\n",
    "\n",
    "device = torch.device(\"cuda\" if torch.cuda.is_available() else \"cpu\")"
   ]
  },
  {
   "cell_type": "markdown",
   "id": "494dcaac",
   "metadata": {},
   "source": [
    "## GP Demonstration: Levy Function"
   ]
  },
  {
   "cell_type": "markdown",
   "id": "5d08abd6",
   "metadata": {},
   "source": [
    "Assume we are interested in finding a set of parameters that optimize some objective function.  For demonstration purposes, we will use the [Levy function](https://www.sfu.ca/~ssurjano/levy.html) as our objective function.\n",
    "\n",
    "The Levy function is defined as:\n",
    "\n",
    "$f(\\mathbf{x})= sin^2(\\pi w_1) + \\sum_{i=1}^{d-1}(w_i - 1)^2[1 + 10sin^2(\\pi w_i + 1)] + (w_d - 1)^2[1 + sin^2(2\\pi w_d)]$ \n",
    "\n",
    "where $w_i = 1 + \\frac{x_i - 1}{4}$ for all $i=1,...,d$."
   ]
  },
  {
   "cell_type": "code",
   "execution_count": 2,
   "id": "ea126bbb",
   "metadata": {},
   "outputs": [],
   "source": [
    "def levy(x):\n",
    "    x = np.asarray_chkfinite(x)\n",
    "    z = 1 + (x - 1) / 4\n",
    "    return (np.sin( np.pi * z[0] )**2\n",
    "        + sum( (z[:-1] - 1)**2 * (1 + 10 * np.sin( np.pi * z[:-1] + 1 )**2 ))\n",
    "        +       (z[-1] - 1)**2 * (1 + np.sin( 2 * np.pi * z[-1] )**2 ))\n",
    "\n",
    "# def levy(x):\n",
    "#     z = 1 + (x - 1) / 4\n",
    "#     return (torch.sin( torch.pi * z[0] )**2\n",
    "#         + sum( (z[:-1] - 1)**2 * (1 + 10 * torch.sin( torch.pi * z[:-1] + 1 )**2 ))\n",
    "#         +       (z[-1] - 1)**2 * (1 + torch.sin( 2 * torch.pi * z[-1] )**2 ))\n"
   ]
  },
  {
   "cell_type": "markdown",
   "id": "52e6ba7b",
   "metadata": {},
   "source": [
    "Plot the Levy function for the domain $x, y \\in [-10, 10]$:"
   ]
  },
  {
   "cell_type": "code",
   "execution_count": null,
   "id": "aa2878d6",
   "metadata": {},
   "outputs": [],
   "source": [
    "x1 = np.linspace(-10, 10, 201)\n",
    "# x1 = torch.linspace(-10, 10, 201)\n",
    "x2 = np.linspace(-10, 10, 201)\n",
    "# x2 = torch.linspace(-10, 10, 201)\n",
    "x1v, x2v = np.meshgrid(x1, x2)\n",
    "# x1v, x2v = torch.meshgrid(x1, x2, indexing='ij')\n",
    "\n",
    "y_levy = levy([x1v, x2v])\n",
    "y_min = np.unravel_index(np.argmin(y_levy), y_levy.shape)\n",
    "x1_min = x1[y_min[0]]\n",
    "x2_min = x2[y_min[1]]\n",
    "\n",
    "plt.contourf(x1v, x2v, y_levy)\n",
    "plt.colorbar()\n",
    "plt.plot(x1_min, x2_min, 'r*')\n",
    "plt.xlabel('x1')\n",
    "plt.ylabel('x2')\n",
    "plt.title(f'Levy Function; Min = {x1_min, x2_min}')\n",
    "plt.show()\n"
   ]
  },
  {
   "cell_type": "markdown",
   "id": "a97458dc",
   "metadata": {},
   "source": [
    "### Objective Function"
   ]
  },
  {
   "cell_type": "markdown",
   "id": "67328ebc",
   "metadata": {},
   "source": [
    "For simplification, we'll take a slice of the Levy function and work in 2-D for the rest of the demonstration."
   ]
  },
  {
   "cell_type": "code",
   "execution_count": 3,
   "id": "e3b39ac0",
   "metadata": {},
   "outputs": [],
   "source": [
    "# def f(x, x2=8):\n",
    "#     if isinstance(x, (np.ndarray)):\n",
    "#         x = torch.from_numpy(x)\n",
    "#     y = levy([x.detach().cpu().numpy(), x2 * torch.ones(len(x)).numpy()])\n",
    "#     return torch.tensor(y)\n",
    "\n",
    "def f(x):\n",
    "    y = (4 * x - 1) ** 2 + torch.sin(8 * math.pi * x)\n",
    "    return y"
   ]
  },
  {
   "cell_type": "code",
   "execution_count": 4,
   "id": "3e6bef68",
   "metadata": {},
   "outputs": [
    {
     "data": {
      "image/png": "[encoded data removed]",
      "text/plain": [
       "<Figure size 288x216 with 1 Axes>"
      ]
     },
     "metadata": {
      "needs_background": "light"
     },
     "output_type": "display_data"
    }
   ],
   "source": [
    "x = torch.linspace(0, 1, 101)\n",
    "y = f(x)\n",
    "\n",
    "\n",
    "fig = plt.figure(figsize=(4,3))\n",
    "plt.plot(x, y)\n",
    "plt.xlim(0, 1)\n",
    "plt.ylim(-2, 10)\n",
    "plt.xlabel('$x$')\n",
    "plt.ylabel('$f(x)$')\n",
    "plt.title(f'Objective Function')\n",
    "plt.savefig('ASAobjfunc.pdf', dpi=300, facecolor='w', bbox_inches='tight')"
   ]
  },
  {
   "cell_type": "markdown",
   "id": "ce1646b0",
   "metadata": {},
   "source": [
    "We now attempt to locate the optimum -- in this case, the minimum -- solution.\n",
    "\n",
    "One method is to do a grid search, i.e., computing the function at even steps over some interval in $x$.  This method will converge on the global optimum, but how long will it take?  If computing the objective function is expensive--in time, cost, or computational power--performing a grid search may not be feasible, especially if the search space is multidimensional.  For example, imagine we the curve shown is actually just one slice of a 5-dimensional curve.  If each dimension represents a parameter space over which we want to sample, and we wish to sample 100 times from every possible combination of parameters, the number of computations required will be $(10^2)^5 = 1\\times10^{10}$.  If the evaluation of this function takes one second, then it will take 317 years to complete if done sequentially (not in parallel).  We can thus see how quickly grid searches scale beyond what is acceptable in terms of time to compute and cost.\n",
    "\n",
    "A second method is to use a sampling scheme such as Markov Chain Monte Carlo sampling.\n",
    "\n",
    "The third method which we are exploring is to create a surrogate model for our objective function which is far easier to sample from, and about which we make some assumptions in order to simplify the evaluation."
   ]
  },
  {
   "cell_type": "markdown",
   "id": "a4eb4135",
   "metadata": {},
   "source": [
    "### Define Surrogate Model"
   ]
  },
  {
   "cell_type": "markdown",
   "id": "0fdb010b",
   "metadata": {},
   "source": [
    "Let us assume the prior for the objective function is a Gaussian process."
   ]
  },
  {
   "cell_type": "code",
   "execution_count": 5,
   "id": "c5c512aa",
   "metadata": {},
   "outputs": [
    {
     "data": {
      "text/plain": [
       "GPRegression(\n",
       "  (kernel): Matern52()\n",
       ")"
      ]
     },
     "execution_count": 5,
     "metadata": {},
     "output_type": "execute_result"
    }
   ],
   "source": [
    "X = torch.tensor([0.1, 0.8])\n",
    "y = f(X)\n",
    "\n",
    "gpmodel = gp.models.GPRegression(X, y, gp.kernels.Matern52(input_dim=1), noise=0 * torch.tensor(0.1), jitter=5.0e-4)\n",
    "gpmodel.to(device)"
   ]
  },
  {
   "cell_type": "code",
   "execution_count": 6,
   "id": "4ca29be0",
   "metadata": {},
   "outputs": [],
   "source": [
    "def update_posterior(x_new):\n",
    "    y = f(x_new)\n",
    "    X = torch.cat([gpmodel.X, x_new])\n",
    "    y = torch.cat([gpmodel.y, y])\n",
    "    gpmodel.set_data(X, y)\n",
    "    optimizer = torch.optim.Adam(gpmodel.parameters(), lr=0.001)\n",
    "    gp.util.train(gpmodel, optimizer)"
   ]
  },
  {
   "cell_type": "markdown",
   "id": "b2ff2f3b",
   "metadata": {},
   "source": [
    "### Define Acquisition Function"
   ]
  },
  {
   "cell_type": "code",
   "execution_count": 7,
   "id": "35857f60",
   "metadata": {},
   "outputs": [],
   "source": [
    "# Lower Confidence Bound:\n",
    "def lower_confidence_bound(x, kappa=20):\n",
    "    mu, variance = gpmodel(x, full_cov=False, noiseless=False)\n",
    "    sigma = variance.sqrt()\n",
    "    return mu - kappa * sigma"
   ]
  },
  {
   "cell_type": "code",
   "execution_count": 8,
   "id": "06143b99",
   "metadata": {},
   "outputs": [],
   "source": [
    "def find_a_candidate(x_init, lower_bound=0, upper_bound=1):\n",
    "    constraint = constraints.interval(lower_bound, upper_bound)\n",
    "    unconstrained_x_init = transform_to(constraint).inv(x_init)\n",
    "    unconstrained_x = unconstrained_x_init.clone().detach().requires_grad_(True)\n",
    "    minimizer = optim.LBFGS([unconstrained_x], line_search_fn='strong_wolfe')\n",
    "    \n",
    "    def closure():\n",
    "        minimizer.zero_grad()\n",
    "        x = transform_to(constraint)(unconstrained_x)\n",
    "        y = lower_confidence_bound(x)\n",
    "        autograd.backward(unconstrained_x, autograd.grad(y, unconstrained_x))\n",
    "        return y\n",
    "    \n",
    "    minimizer.step(closure)\n",
    "    x = transform_to(constraint)(unconstrained_x)\n",
    "    return x.detach()"
   ]
  },
  {
   "cell_type": "markdown",
   "id": "86567330",
   "metadata": {},
   "source": [
    "### Inner Loop of Bayesian Optimization"
   ]
  },
  {
   "cell_type": "code",
   "execution_count": 9,
   "id": "d254f47d",
   "metadata": {},
   "outputs": [],
   "source": [
    "def next_x(lower_bound=0, upper_bound=1, num_candidates=5):\n",
    "    candidates = []\n",
    "    values = []\n",
    "    \n",
    "    x_init = gpmodel.X[-1:]\n",
    "    for i in range(num_candidates):\n",
    "        x = find_a_candidate(x_init, lower_bound, upper_bound)\n",
    "        y = lower_confidence_bound(x)\n",
    "        candidates.append(x)\n",
    "        values.append(y)\n",
    "        x_init = x.new_empty(1).uniform_(lower_bound, upper_bound)\n",
    "    \n",
    "    argmin = torch.min(torch.cat(values), dim=0)[1].item()\n",
    "    return candidates[argmin]    "
   ]
  },
  {
   "cell_type": "markdown",
   "id": "0045d576",
   "metadata": {},
   "source": [
    "### Running the Algorithm"
   ]
  },
  {
   "cell_type": "code",
   "execution_count": 10,
   "id": "8f254ca9",
   "metadata": {},
   "outputs": [],
   "source": [
    "def plot(gs, xmin, xlabel=None, with_title=True, ylim1=None, ylim2=None):\n",
    "    if xlabel is None:\n",
    "        xlabel = \"xmin\"\n",
    "    else:\n",
    "        xlabel = f\"x{xlabel}\"\n",
    "    \n",
    "    Xnew = torch.linspace(0., 1., 101)\n",
    "    ax1 = plt.subplot(gs[0])\n",
    "    ax1.plot(gpmodel.X.detach().cpu().numpy(), gpmodel.y.detach().cpu().numpy(), \"kx\")\n",
    "    with torch.no_grad():\n",
    "        loc, var = gpmodel(Xnew, full_cov=False, noiseless=False)\n",
    "        sd = var.sqrt()\n",
    "        ax1.plot(Xnew.detach().cpu().numpy(), loc.detach().cpu().numpy(), \"r\", lw=2)\n",
    "        ax1.fill_between(Xnew.detach().cpu().numpy(), (loc - 2*sd).detach().cpu().numpy(), (loc + 2*sd).detach().cpu().numpy(), color=\"C0\", alpha=0.3)\n",
    "    ax1.set_xlim(0., 1.)\n",
    "    if ylim1 is not None:\n",
    "        ax1.set_ylim(ylim1[0], ylim1[1])\n",
    "    ax1.set_title(f\"Find {xlabel}\")\n",
    "    if with_title:\n",
    "        ax1.set_ylabel(\"GP Regression\")\n",
    "    \n",
    "    ax2 = plt.subplot(gs[1])\n",
    "    with torch.no_grad():\n",
    "        ax2.plot(Xnew.detach().cpu().numpy(), lower_confidence_bound(Xnew).detach().cpu().numpy())\n",
    "        ax2.plot(xmin.detach().cpu().numpy(), lower_confidence_bound(xmin).detach().cpu().numpy(), \"^\", markersize=10, label=f\"{xlabel} = {xmin.item():.5f}\")\n",
    "    ax2.set_xlim(0., 1.)\n",
    "    if ylim2 is not None:\n",
    "        ax2.set_ylim(ylim2[0], ylim2[1])\n",
    "    if with_title:\n",
    "        ax2.set_ylabel(\"Acquisition Function\")\n",
    "    ax2.set_xlabel('x')\n",
    "    ax2.legend(loc=1)"
   ]
  },
  {
   "cell_type": "code",
   "execution_count": 11,
   "id": "eeb6a980",
   "metadata": {},
   "outputs": [],
   "source": [
    "# plt.figure(figsize=(12, 30))\n",
    "# outer_gs = gridspec.GridSpec(5, 2)\n",
    "# optimizer = torch.optim.Adam(gpmodel.parameters(), lr=0.001)\n",
    "# gp.util.train(gpmodel, optimizer)\n",
    "# for i in range(8):\n",
    "#     xmin = next_x()\n",
    "#     gs = gridspec.GridSpecFromSubplotSpec(2, 1, subplot_spec=outer_gs[i])\n",
    "#     plot(gs, xmin, xlabel=i+1, with_title=(i % 2 == 0))\n",
    "#     update_posterior(xmin)\n",
    "# plt.show()\n",
    "\n",
    "optimizer = torch.optim.Adam(gpmodel.parameters(), lr=0.001)\n",
    "gp.util.train(gpmodel, optimizer)\n",
    "for i in range(20):\n",
    "    xmin = next_x()\n",
    "    fig = plt.figure(figsize=(6,7))\n",
    "    gs = gridspec.GridSpec(2,1)\n",
    "    plot(gs, xmin, xlabel=i+1, with_title=True, ylim1=(-2, 10), ylim2=(-30, 10))\n",
    "    update_posterior(xmin)\n",
    "    fig.savefig(f'gpanimate_{i:02d}.png', dpi=300, facecolor='w', bbox_inches=\"tight\")\n",
    "    plt.close()"
   ]
  },
  {
   "cell_type": "code",
   "execution_count": null,
   "id": "b9829436-d6dd-4246-b293-d77d66310e01",
   "metadata": {},
   "outputs": [],
   "source": []
  },
  {
   "cell_type": "code",
   "execution_count": 12,
   "id": "98ee4217",
   "metadata": {},
   "outputs": [
    {
     "data": {
      "text/plain": [
       "{'_pyro_name': '',\n",
       " '_pyro_context': <pyro.nn.module._Context at 0x11636dfd0>,\n",
       " '_pyro_params': OrderedDict([('noise',\n",
       "               (GreaterThan(lower_bound=0.0), None))]),\n",
       " '_pyro_samples': OrderedDict(),\n",
       " 'training': True,\n",
       " '_parameters': OrderedDict([('noise_unconstrained',\n",
       "               Parameter containing:\n",
       "               tensor(-inf, requires_grad=True))]),\n",
       " '_buffers': OrderedDict(),\n",
       " '_non_persistent_buffers_set': set(),\n",
       " '_backward_hooks': OrderedDict(),\n",
       " '_is_full_backward_hook': None,\n",
       " '_forward_hooks': OrderedDict(),\n",
       " '_forward_pre_hooks': OrderedDict(),\n",
       " '_state_dict_hooks': OrderedDict(),\n",
       " '_load_state_dict_pre_hooks': OrderedDict(),\n",
       " '_modules': OrderedDict([('kernel', Matern52())]),\n",
       " '_priors': OrderedDict(),\n",
       " '_guides': OrderedDict(),\n",
       " '_mode': 'model',\n",
       " 'X': tensor([1.0000e-01, 8.0000e-01, 4.0994e-01, 5.8749e-01, 1.0000e+00, 3.8654e-08,\n",
       "         4.8335e-01, 2.5466e-01, 3.3299e-01, 6.9768e-01, 9.0700e-01, 1.7630e-01,\n",
       "         5.3433e-01, 6.4726e-01, 4.5062e-02, 2.1346e-01, 4.4341e-01, 1.4260e-01,\n",
       "         3.7368e-01, 2.9007e-01, 1.9399e-01, 1.9172e-01]),\n",
       " 'y': tensor([ 0.9478,  5.7911, -0.3603,  2.6316,  9.0000,  1.0000,  0.4650,  0.1172,\n",
       "          0.9805,  2.2392,  6.1861, -0.8737,  2.0532,  1.9943,  1.5775, -0.7733,\n",
       "         -0.3905, -0.2436,  0.2779,  0.8710, -0.9365, -0.9400]),\n",
       " 'mean_function': <function pyro.contrib.gp.models.model._zero_mean_function(x)>,\n",
       " 'jitter': 0.0005}"
      ]
     },
     "execution_count": 12,
     "metadata": {},
     "output_type": "execute_result"
    }
   ],
   "source": [
    "gpmodel.__dict__"
   ]
  },
  {
   "cell_type": "markdown",
   "id": "3c5f32b8",
   "metadata": {},
   "source": [
    "# Demonstrate on 2D"
   ]
  },
  {
   "cell_type": "code",
   "execution_count": 13,
   "id": "c0e5a7f9",
   "metadata": {},
   "outputs": [
    {
     "ename": "ModuleNotFoundError",
     "evalue": "No module named 'ax'",
     "output_type": "error",
     "traceback": [
      "\u001b[0;31m---------------------------------------------------------------------------\u001b[0m",
      "\u001b[0;31mModuleNotFoundError\u001b[0m                       Traceback (most recent call last)",
      "\u001b[0;32m/var/folders/bv/_l6pjvb135z9qm2kwx7n6fhw0000gn/T/ipykernel_85607/3008297170.py\u001b[0m in \u001b[0;36m<module>\u001b[0;34m\u001b[0m\n\u001b[0;32m----> 1\u001b[0;31m \u001b[0;32mfrom\u001b[0m \u001b[0max\u001b[0m\u001b[0;34m.\u001b[0m\u001b[0mmodelbridge\u001b[0m\u001b[0;34m.\u001b[0m\u001b[0mgeneration_strategy\u001b[0m \u001b[0;32mimport\u001b[0m \u001b[0mGenerationStrategy\u001b[0m\u001b[0;34m,\u001b[0m \u001b[0mGenerationStep\u001b[0m\u001b[0;34m\u001b[0m\u001b[0;34m\u001b[0m\u001b[0m\n\u001b[0m\u001b[1;32m      2\u001b[0m \u001b[0;32mfrom\u001b[0m \u001b[0max\u001b[0m\u001b[0;34m.\u001b[0m\u001b[0mmodelbridge\u001b[0m\u001b[0;34m.\u001b[0m\u001b[0mregistry\u001b[0m \u001b[0;32mimport\u001b[0m \u001b[0mModels\u001b[0m\u001b[0;34m\u001b[0m\u001b[0;34m\u001b[0m\u001b[0m\n\u001b[1;32m      3\u001b[0m \u001b[0;32mfrom\u001b[0m \u001b[0max\u001b[0m\u001b[0;34m.\u001b[0m\u001b[0mservice\u001b[0m\u001b[0;34m.\u001b[0m\u001b[0max_client\u001b[0m \u001b[0;32mimport\u001b[0m \u001b[0mAxClient\u001b[0m\u001b[0;34m\u001b[0m\u001b[0;34m\u001b[0m\u001b[0m\n\u001b[1;32m      4\u001b[0m \u001b[0;32mfrom\u001b[0m \u001b[0max\u001b[0m\u001b[0;34m.\u001b[0m\u001b[0mutils\u001b[0m\u001b[0;34m.\u001b[0m\u001b[0mnotebook\u001b[0m\u001b[0;34m.\u001b[0m\u001b[0mplotting\u001b[0m \u001b[0;32mimport\u001b[0m \u001b[0mrender\u001b[0m\u001b[0;34m,\u001b[0m \u001b[0minit_notebook_plotting\u001b[0m\u001b[0;34m\u001b[0m\u001b[0;34m\u001b[0m\u001b[0m\n\u001b[1;32m      5\u001b[0m \u001b[0;32mimport\u001b[0m \u001b[0mnumpy\u001b[0m \u001b[0;32mas\u001b[0m \u001b[0mnp\u001b[0m\u001b[0;34m\u001b[0m\u001b[0;34m\u001b[0m\u001b[0m\n",
      "\u001b[0;31mModuleNotFoundError\u001b[0m: No module named 'ax'"
     ]
    }
   ],
   "source": [
    "from ax.modelbridge.generation_strategy import GenerationStrategy, GenerationStep\n",
    "from ax.modelbridge.registry import Models\n",
    "from ax.service.ax_client import AxClient\n",
    "from ax.utils.notebook.plotting import render, init_notebook_plotting\n",
    "import numpy as np\n",
    "import torch\n",
    "\n",
    "init_notebook_plotting()\n",
    "import scipy.io as sio"
   ]
  },
  {
   "cell_type": "code",
   "execution_count": null,
   "id": "97423b5f",
   "metadata": {},
   "outputs": [],
   "source": [
    "device = torch.device(\"cuda\" if torch.cuda.is_available() else \"cpu\")\n",
    "\n",
    "gs = GenerationStrategy(\n",
    "    steps=[\n",
    "        GenerationStep(\n",
    "            model=Models.SOBOL,\n",
    "            num_trials=10,\n",
    "            min_trials_observed=3,\n",
    "            model_kwargs={'deduplicate': True, 'seed': None}\n",
    "        ),\n",
    "        GenerationStep(\n",
    "            model=Models.GPEI,\n",
    "            num_trials=-1,\n",
    "            model_kwargs={\"torch_dtype\": torch.double, \"torch_device\": device}\n",
    "        )\n",
    "    ]\n",
    ")"
   ]
  },
  {
   "cell_type": "code",
   "execution_count": null,
   "id": "d1d4003a",
   "metadata": {},
   "outputs": [],
   "source": []
  },
  {
   "cell_type": "code",
   "execution_count": null,
   "id": "26f9928e",
   "metadata": {},
   "outputs": [],
   "source": [
    "ax_client = AxClient(generation_strategy=gs)"
   ]
  },
  {
   "cell_type": "code",
   "execution_count": null,
   "id": "f5cc241b",
   "metadata": {},
   "outputs": [],
   "source": [
    "ax_client.create_experiment(\n",
    "    name=\"test_mfp\",\n",
    "    parameters=[\n",
    "        {\n",
    "            \"name\": \"test_range\",\n",
    "            \"type\": \"range\",\n",
    "            \"bounds\": [1000, 5000],\n",
    "            \"value_type\": \"int\"            \n",
    "        },\n",
    "        {\n",
    "            \"name\": \"test_depth\",\n",
    "            \"type\": \"range\",\n",
    "            \"bounds\": [1, 100],\n",
    "            \"value_type\": \"int\"\n",
    "        }\n",
    "    ],\n",
    "    objective_name=\"bartlett\",\n",
    "    minimize=True,\n",
    "#     outcome_constraints=[\"bartlett >= 0.\"],\n",
    "    overwrite_existing_experiment=True\n",
    ")"
   ]
  },
  {
   "cell_type": "code",
   "execution_count": null,
   "id": "00ec926d",
   "metadata": {},
   "outputs": [],
   "source": [
    "def evaluate_objective(parameterization):\n",
    "    \n",
    "    # 1. Load data\n",
    "    data = sio.loadmat('zreplica_250.mat')\n",
    "    p = data['p1']\n",
    "    range_vec = data['rr'].squeeze().round().astype(int)\n",
    "    depth_vec = data['rd'].squeeze().round().astype(int)\n",
    "    receiver_depths = data['sd'].squeeze()\n",
    "    \n",
    "    # 2. Specify source information\n",
    "    true_range = 3.e3\n",
    "    true_depth = 40.\n",
    "    r = np.expand_dims(p[np.where(depth_vec==true_depth), np.where(range_vec==true_range), :].squeeze(), axis=1)\n",
    "    \n",
    "    # 3. Retrieve replica field for given test source range and depth:\n",
    "    test_range = parameterization.get('test_range')\n",
    "    test_depth = parameterization.get('test_depth')\n",
    "    ind_depth = np.where(depth_vec==test_depth)\n",
    "    ind_range = np.where(range_vec==test_range)\n",
    "    r_hat = np.expand_dims(p[ind_depth, ind_range, :].squeeze(), axis=1) # -> [0, 1, 16]\n",
    "    \n",
    "    # 4. Calculate Bartlett Objective Function:\n",
    "    K = r @ r.conj().T\n",
    "    w = r_hat / np.linalg.norm(r_hat)\n",
    "    B = np.real(w.conj().T @ K @ w)\n",
    "    traceK = np.trace(K).squeeze()\n",
    "    objective = float(np.log(np.real(traceK - B)))\n",
    "\n",
    "    return {\"bartlett\": (objective, 0.)}"
   ]
  },
  {
   "cell_type": "code",
   "execution_count": null,
   "id": "52b54ae6",
   "metadata": {},
   "outputs": [],
   "source": [
    "for i in range(200):\n",
    "    parameters, trial_index = ax_client.get_next_trial()\n",
    "    ax_client.complete_trial(trial_index=trial_index, raw_data=evaluate_objective(parameters))"
   ]
  },
  {
   "cell_type": "code",
   "execution_count": null,
   "id": "0c3fbc9a",
   "metadata": {},
   "outputs": [],
   "source": [
    "ax_client.get_best_parameters()"
   ]
  },
  {
   "cell_type": "code",
   "execution_count": null,
   "id": "0d380f15",
   "metadata": {},
   "outputs": [],
   "source": [
    "render(ax_client.get_contour_plot(param_x=\"test_range\", param_y=\"test_depth\", metric_name='bartlett'))\n",
    "# ax_client.get_contour_plot(param_x=\"test_range\", param_y=\"test_depth\", metric_name='bartlett')"
   ]
  },
  {
   "cell_type": "code",
   "execution_count": null,
   "id": "7c6e8f51",
   "metadata": {},
   "outputs": [],
   "source": [
    "render(ax_client.get_optimization_trace())"
   ]
  },
  {
   "cell_type": "code",
   "execution_count": null,
   "id": "b15379a4",
   "metadata": {},
   "outputs": [],
   "source": []
  },
  {
   "cell_type": "code",
   "execution_count": null,
   "id": "c950a587",
   "metadata": {},
   "outputs": [],
   "source": []
  },
  {
   "cell_type": "code",
   "execution_count": null,
   "id": "f4fe6e72",
   "metadata": {},
   "outputs": [],
   "source": []
  },
  {
   "cell_type": "code",
   "execution_count": null,
   "id": "7afc00c4",
   "metadata": {},
   "outputs": [],
   "source": []
  }
 ],
 "metadata": {
  "kernelspec": {
   "display_name": "gp",
   "language": "python",
   "name": "gp"
  },
  "language_info": {
   "codemirror_mode": {
    "name": "ipython",
    "version": 3
   },
   "file_extension": ".py",
   "mimetype": "text/x-python",
   "name": "python",
   "nbconvert_exporter": "python",
   "pygments_lexer": "ipython3",
   "version": "3.9.7"
  }
 },
 "nbformat": 4,
 "nbformat_minor": 5
}
