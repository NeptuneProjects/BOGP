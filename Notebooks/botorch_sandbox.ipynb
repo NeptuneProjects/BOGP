{
 "cells": [
  {
   "cell_type": "code",
   "execution_count": 1,
   "metadata": {},
   "outputs": [],
   "source": [
    "import torch\n",
    "\n",
    "from botorch.fit import fit_gpytorch_model\n",
    "from botorch.models import SingleTaskGP\n",
    "from botorch.test_functions import Rastrigin\n",
    "from gpytorch.mlls import ExactMarginalLogLikelihood\n",
    "from botorch.acquisition import qExpectedImprovement\n",
    "from botorch.optim import optimize_acqf\n",
    "\n",
    "objective_func = Rastrigin(dim=2, negate=True)"
   ]
  },
  {
   "cell_type": "code",
   "execution_count": 2,
   "metadata": {},
   "outputs": [
    {
     "data": {
      "text/plain": [
       "tensor([[-0.1368,  1.0684],\n",
       "        [-0.3418,  1.2239],\n",
       "        [-5.1200, -1.8558],\n",
       "        [ 3.2311, -5.0935],\n",
       "        [-0.1144, -0.1134]])"
      ]
     },
     "execution_count": 2,
     "metadata": {},
     "output_type": "execute_result"
    }
   ],
   "source": [
    "torch.manual_seed(1)\n",
    "train_x = torch.rand(100, 2, dtype=torch.double)\n",
    "train_obj = objective_func(train_x).unsqueeze(-1)\n",
    "model = SingleTaskGP(train_X=train_x, train_Y=train_obj)\n",
    "mll = ExactMarginalLogLikelihood(model.likelihood, model)\n",
    "fit_gpytorch_model(mll);\n",
    "\n",
    "best_value = train_obj.max()\n",
    "qEI = qExpectedImprovement(model=model, best_f=best_value)\n",
    "\n",
    "new_point_analytic, _ = optimize_acqf(\n",
    "    acq_function=qEI,\n",
    "    bounds=torch.tensor([[-5.12] * 2, [5.12] * 2]),\n",
    "    q=5,\n",
    "    num_restarts=20,\n",
    "    raw_samples=512,\n",
    "    options={\"batch_limit\": 20, \"init_batch_limit\": 20},\n",
    ")\n",
    "new_point_analytic"
   ]
  },
  {
   "cell_type": "code",
   "execution_count": 55,
   "metadata": {},
   "outputs": [],
   "source": []
  }
 ],
 "metadata": {
  "kernelspec": {
   "display_name": "gp",
   "language": "python",
   "name": "python3"
  },
  "language_info": {
   "codemirror_mode": {
    "name": "ipython",
    "version": 3
   },
   "file_extension": ".py",
   "mimetype": "text/x-python",
   "name": "python",
   "nbconvert_exporter": "python",
   "pygments_lexer": "ipython3",
   "version": "3.9.7"
  },
  "orig_nbformat": 4,
  "vscode": {
   "interpreter": {
    "hash": "ff6c812350622bc813be585c67b4988ceec462579cda5dbaae7b7c3f5ee7a1d0"
   }
  }
 },
 "nbformat": 4,
 "nbformat_minor": 2
}
