{
 "cells": [
  {
   "cell_type": "code",
   "execution_count": 1,
   "metadata": {},
   "outputs": [],
   "source": [
    "from pathlib import Path\n",
    "import sys\n",
    "\n",
    "from ax.service.ax_client import AxClient\n",
    "import matplotlib.pyplot as plt\n",
    "import numpy as np\n",
    "from scipy.stats import norm\n",
    "import seaborn as sns\n",
    "\n",
    "sys.path.insert(0, \"/Users/williamjenkins/Research/Projects/BOGP/Source/BOGP\")\n",
    "from aggregate import Aggregator\n",
    "\n",
    "ROOT = Path(\"/Users/williamjenkins/Research/Projects/BOGP/Data/range_estimation/simulation/serial_example/rec_r=3.0__src_z=62.0__snr=20/sequential_qei/seed_0292288111\")\n",
    "figpath = ROOT / \"figures\""
   ]
  },
  {
   "cell_type": "code",
   "execution_count": 2,
   "metadata": {},
   "outputs": [
    {
     "name": "stdout",
     "output_type": "stream",
     "text": [
      "X: (1000,)\n",
      "y: (1000,)\n",
      "y_test: (90, 1000)\n",
      "cov_test: (90, 1000)\n",
      "alpha_test: (90, 1000)\n"
     ]
    }
   ],
   "source": [
    "X = np.load(ROOT / \"X.npy\").squeeze()\n",
    "y = np.load(ROOT / \"y.npy\")\n",
    "y_test = np.load(ROOT / \"y_test.npy\")\n",
    "cov_test = np.load(ROOT / \"cov_test.npy\")\n",
    "alpha_test = np.load(ROOT / \"alpha_test.npy\")\n",
    "df, _ = Aggregator.extract_results(ROOT / \"results.json\")\n",
    "\n",
    "print(\n",
    "    f\"X: {X.shape}\\n\"\n",
    "    f\"y: {y.shape}\\n\"\n",
    "    f\"y_test: {y_test.shape}\\n\"\n",
    "    f\"cov_test: {cov_test.shape}\\n\"\n",
    "    f\"alpha_test: {alpha_test.shape}\"\n",
    ")"
   ]
  },
  {
   "cell_type": "code",
   "execution_count": 6,
   "metadata": {},
   "outputs": [],
   "source": [
    "N_WARMUP = 10\n",
    "\n",
    "for i in range(90):\n",
    "    i_stop = N_WARMUP + i - 1 if i > 0 else N_WARMUP + i\n",
    "    mean = y_test[i]\n",
    "    ucb = mean + 2 * cov_test[i]\n",
    "    lcb = mean - 2 * cov_test[i]\n",
    "    # lcb[lcb < 0] = 0\n",
    "    alpha = alpha_test[i]\n",
    "    if i > 0:\n",
    "        alpha_prev = alpha_test[i - 1]\n",
    "    \n",
    "\n",
    "    fig, axs = plt.subplots(figsize=(12, 6), nrows=2, height_ratios=[0.7, 0.3], facecolor=\"w\")\n",
    "    ax = axs[0]\n",
    "    ax.plot(X, y, c=\"g\", label=\"True\")\n",
    "    ax.plot(X, mean, label=\"Mean\")\n",
    "    ax.fill_between(X, lcb, ucb, alpha=0.5, label=\"Cov\")\n",
    "    ax.axvline(X[np.argmax(alpha)], color=\"k\", linestyle=\":\")\n",
    "    ax.scatter(df[\"rec_r\"].iloc[0:i_stop], df[\"bartlett\"].iloc[0:i_stop], marker=\"x\", c=\"k\", label=\"Samples\", alpha=0.5, zorder=10)\n",
    "    if i > 0:\n",
    "        ax.scatter(df[\"rec_r\"].iloc[i_stop], df[\"bartlett\"].iloc[i_stop], marker=\"*\", color=\"r\", linewidth=4, zorder=20)\n",
    "        ax.axvline(X[np.argmax(alpha_prev)], color=\"r\", linestyle=\":\")\n",
    "\n",
    "\n",
    "    sns.rugplot(data=df[0:i_stop], x=\"rec_r\", ax=ax, height=-.05, clip_on=False, color=\"k\", alpha=0.35)\n",
    "    ax.set_xlim(-0.1, 10.1)\n",
    "    ax.set_xticks([])\n",
    "    ax.set_xlabel(None)\n",
    "    ax.set_ylim(-0.1, 1.1)\n",
    "    ax.set_ylabel(\"$f(x)$\", rotation=0, ha=\"right\")\n",
    "    ax.text(0, 1, f\"Iteration {i}\")\n",
    "    ax.legend()\n",
    "\n",
    "    ax = axs[1]\n",
    "    ax.plot(X, alpha)\n",
    "    ax.axvline(X[np.argmax(alpha)], color=\"k\", linestyle=\":\")\n",
    "    if i > 0:\n",
    "        ax.axvline(X[np.argmax(alpha_prev)], color=\"r\", linestyle=\":\")\n",
    "    ax.set_xlim(-0.1, 10.1)\n",
    "    ax.set_xticklabels([])\n",
    "    ax.set_ylabel(\"$\\\\alpha(x)$\", rotation=0, ha=\"right\")\n",
    "\n",
    "\n",
    "    figpath.mkdir(exist_ok=True)\n",
    "    fig.savefig(figpath / f\"{i:03d}.png\", bbox_inches=\"tight\")\n",
    "    plt.close()\n"
   ]
  }
 ],
 "metadata": {
  "kernelspec": {
   "display_name": "gp310",
   "language": "python",
   "name": "python3"
  },
  "language_info": {
   "codemirror_mode": {
    "name": "ipython",
    "version": 3
   },
   "file_extension": ".py",
   "mimetype": "text/x-python",
   "name": "python",
   "nbconvert_exporter": "python",
   "pygments_lexer": "ipython3",
   "version": "3.10.8"
  },
  "orig_nbformat": 4,
  "vscode": {
   "interpreter": {
    "hash": "4e6d333328d47f705df5edff87dab850360b29a81fa47f159f4f337c31cca008"
   }
  }
 },
 "nbformat": 4,
 "nbformat_minor": 2
}
